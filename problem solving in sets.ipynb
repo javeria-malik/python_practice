{
 "cells": [
  {
   "cell_type": "code",
   "execution_count": 3,
   "id": "7091e66c",
   "metadata": {},
   "outputs": [
    {
     "name": "stdout",
     "output_type": "stream",
     "text": [
      "{0, True, 5, 'javeria', 7, 'malik'}\n",
      "{90, 'hello world', 'jiya', 6.7}\n"
     ]
    }
   ],
   "source": [
    "# write a python program to create a set\n",
    "set1={True,0,7,5,\"javeria\",\"malik\"}\n",
    "print(set1)\n",
    "set2={\"jiya\",90,6.7,\"hello world\"}\n",
    "print(set2)\n"
   ]
  },
  {
   "cell_type": "code",
   "execution_count": null,
   "id": "7a0c5247",
   "metadata": {},
   "outputs": [],
   "source": []
  },
  {
   "cell_type": "code",
   "execution_count": 4,
   "id": "9a3e6484",
   "metadata": {},
   "outputs": [
    {
     "name": "stdout",
     "output_type": "stream",
     "text": [
      "0\n",
      "True\n",
      "5\n",
      "javeria\n",
      "7\n",
      "malik\n"
     ]
    }
   ],
   "source": [
    "#iteration in  python \n",
    "set1={True,0,7,5,\"javeria\",\"malik\"}\n",
    "for item in set1:\n",
    "    print(item)"
   ]
  },
  {
   "cell_type": "code",
   "execution_count": 5,
   "id": "c07cf286",
   "metadata": {},
   "outputs": [
    {
     "name": "stdout",
     "output_type": "stream",
     "text": [
      "{0, True, 5, 'javeria', 7, 'jiya', 6.7, 'malik', 90, 'hello world'}\n"
     ]
    }
   ],
   "source": [
    "#union\n",
    "print(set1.union(set2))"
   ]
  },
  {
   "cell_type": "code",
   "execution_count": 7,
   "id": "3c71d16e",
   "metadata": {},
   "outputs": [
    {
     "name": "stdout",
     "output_type": "stream",
     "text": [
      "{0, True, 5, 'javeria', 7, 'heart', 'malik'}\n"
     ]
    }
   ],
   "source": [
    "#add\n",
    "set1.add(\"heart\")\n",
    "print(set1)"
   ]
  },
  {
   "cell_type": "code",
   "execution_count": 8,
   "id": "f9a18f4a",
   "metadata": {},
   "outputs": [
    {
     "name": "stdout",
     "output_type": "stream",
     "text": [
      "{0, True, 5, 7, 'heart', 'malik'}\n"
     ]
    }
   ],
   "source": [
    "#remove\n",
    "set1.remove(\"javeria\")\n",
    "print(set1)"
   ]
  },
  {
   "cell_type": "code",
   "execution_count": 13,
   "id": "4e9fc0a6",
   "metadata": {},
   "outputs": [
    {
     "name": "stdout",
     "output_type": "stream",
     "text": [
      "0\n"
     ]
    }
   ],
   "source": [
    "set1={0,8,6,4,5}\n",
    "copy=set1.copy()\n",
    "for i in copy:\n",
    "    i=0\n",
    "    if 6 in set1:\n",
    "        set1.remove(6)\n",
    "print(i)\n"
   ]
  },
  {
   "cell_type": "code",
   "execution_count": null,
   "id": "e3a87a6c",
   "metadata": {},
   "outputs": [],
   "source": [
    "set3={9,0,6,5,3}\n",
    "set4={9,10,17,6,3}\n",
    "print"
   ]
  },
  {
   "cell_type": "code",
   "execution_count": 20,
   "id": "7cfb14a3",
   "metadata": {},
   "outputs": [
    {
     "name": "stdout",
     "output_type": "stream",
     "text": [
      "{0, 4, 5, 8}\n"
     ]
    }
   ],
   "source": [
    "set1 = {0, 8, 6, 4, 5}\n",
    "copy = set1.copy()\n",
    "for i in copy:\n",
    "    i = 0\n",
    "    if 6 in set1:\n",
    "        set1.remove(6)\n",
    "print(set1)"
   ]
  },
  {
   "cell_type": "code",
   "execution_count": 1,
   "id": "bd70321d",
   "metadata": {},
   "outputs": [
    {
     "name": "stdout",
     "output_type": "stream",
     "text": [
      "{0, 3, 5, 6, 8, 9}\n"
     ]
    }
   ],
   "source": [
    "# union set\n",
    "set1={9,8,6,0}\n",
    "set2={9,6,5,3}\n",
    "print(set1.union(set2))\n",
    "\n"
   ]
  },
  {
   "cell_type": "code",
   "execution_count": 3,
   "id": "45068b7c",
   "metadata": {},
   "outputs": [
    {
     "name": "stdout",
     "output_type": "stream",
     "text": [
      "{0, 4, 6, 8, 9}\n"
     ]
    }
   ],
   "source": [
    "# add \n",
    "set3=set1.add(4)\n",
    "print(set1)"
   ]
  },
  {
   "cell_type": "code",
   "execution_count": 10,
   "id": "3e46a051",
   "metadata": {},
   "outputs": [
    {
     "name": "stdout",
     "output_type": "stream",
     "text": [
      "{9, 3, 5}\n"
     ]
    }
   ],
   "source": [
    "# remove \n",
    "set2={9,6,5,3}\n",
    "set2.remove(6)\n",
    "print(set2)"
   ]
  },
  {
   "cell_type": "code",
   "execution_count": 13,
   "id": "2948c2d0",
   "metadata": {},
   "outputs": [
    {
     "name": "stdout",
     "output_type": "stream",
     "text": [
      "{'hassan', 'zain', 'abdul waahab'}\n"
     ]
    }
   ],
   "source": [
    "#set differnec(print all the values which are in first set not in sexcond one after subtraction )\n",
    "name_persons={\"jiya\",\"hassan\",\"zain\",\"abdul waahab\"}\n",
    "name_person={\"jiya\",\"good girl\"}\n",
    "good=name_persons.difference(name_person)\n",
    "print(good)"
   ]
  },
  {
   "cell_type": "code",
   "execution_count": 14,
   "id": "5b50ed24",
   "metadata": {},
   "outputs": [
    {
     "name": "stdout",
     "output_type": "stream",
     "text": [
      "{'hassan', 'zain', 'abdul waahab', 'good girl'}\n"
     ]
    }
   ],
   "source": [
    "# symmetric_difference\n",
    "name_persons={\"jiya\",\"hassan\",\"zain\",\"abdul waahab\"}\n",
    "name_person={\"jiya\",\"good girl\"}\n",
    "good=name_persons.symmetric_difference(name_person)\n",
    "print(good)\n"
   ]
  },
  {
   "cell_type": "code",
   "execution_count": 16,
   "id": "5c4730a2",
   "metadata": {},
   "outputs": [
    {
     "name": "stdout",
     "output_type": "stream",
     "text": [
      "False\n"
     ]
    }
   ],
   "source": [
    "#subset\n",
    "name_persons={\"jiya\",\"hassan\",\"zain\",\"abdul waahab\"}\n",
    "name_person={\"jiya\",\"good girl\"}\n",
    "print(name_persons.issubset(name_person))\n",
    "\n"
   ]
  },
  {
   "cell_type": "code",
   "execution_count": 17,
   "id": "930791c2",
   "metadata": {},
   "outputs": [
    {
     "name": "stdout",
     "output_type": "stream",
     "text": [
      "{'jiya', 'good girl'}\n"
     ]
    }
   ],
   "source": [
    "#shallow copy\n",
    "new_set=name_person.copy()\n",
    "print(new_set)"
   ]
  },
  {
   "cell_type": "code",
   "execution_count": 18,
   "id": "bbcffc86",
   "metadata": {},
   "outputs": [
    {
     "ename": "TypeError",
     "evalue": "unhashable type: 'list'",
     "output_type": "error",
     "traceback": [
      "\u001b[1;31m---------------------------------------------------------------------------\u001b[0m",
      "\u001b[1;31mTypeError\u001b[0m                                 Traceback (most recent call last)",
      "\u001b[1;32m<ipython-input-18-9042a77c0e14>\u001b[0m in \u001b[0;36m<module>\u001b[1;34m\u001b[0m\n\u001b[0;32m      1\u001b[0m \u001b[1;32mimport\u001b[0m \u001b[0mcopy\u001b[0m\u001b[1;33m\u001b[0m\u001b[1;33m\u001b[0m\u001b[0m\n\u001b[0;32m      2\u001b[0m \u001b[1;33m\u001b[0m\u001b[0m\n\u001b[1;32m----> 3\u001b[1;33m \u001b[0mset1\u001b[0m \u001b[1;33m=\u001b[0m \u001b[1;33m{\u001b[0m\u001b[1;36m1\u001b[0m\u001b[1;33m,\u001b[0m \u001b[1;36m2\u001b[0m\u001b[1;33m,\u001b[0m \u001b[1;33m[\u001b[0m\u001b[1;36m3\u001b[0m\u001b[1;33m,\u001b[0m \u001b[1;36m4\u001b[0m\u001b[1;33m]\u001b[0m\u001b[1;33m}\u001b[0m\u001b[1;33m\u001b[0m\u001b[1;33m\u001b[0m\u001b[0m\n\u001b[0m\u001b[0;32m      4\u001b[0m \u001b[0mset2\u001b[0m \u001b[1;33m=\u001b[0m \u001b[0mcopy\u001b[0m\u001b[1;33m.\u001b[0m\u001b[0mdeepcopy\u001b[0m\u001b[1;33m(\u001b[0m\u001b[0mset1\u001b[0m\u001b[1;33m)\u001b[0m\u001b[1;33m\u001b[0m\u001b[1;33m\u001b[0m\u001b[0m\n\u001b[0;32m      5\u001b[0m \u001b[1;33m\u001b[0m\u001b[0m\n",
      "\u001b[1;31mTypeError\u001b[0m: unhashable type: 'list'"
     ]
    }
   ],
   "source": [
    "import copy\n",
    "\n",
    "set1 = {1, 2, [3, 4]}\n",
    "set2 = copy.deepcopy(set1)\n",
    "\n",
    "print(set2) # Output: {1, 2, [3, 4]}\n",
    "\n",
    "set1[2][0] = 5\n",
    "\n",
    "print(set1) # Output: {1, 2, [5, 4]}\n",
    "print(set2) # Output: {1, 2, [3, 4]}\n"
   ]
  },
  {
   "cell_type": "code",
   "execution_count": null,
   "id": "e721a265",
   "metadata": {},
   "outputs": [],
   "source": [
    "he error message \"TypeError: unhashable type: 'list'\" is raised because you are trying to create a set that contains a list [3, 4]. However, lists are mutable objects and therefore cannot be hashed, which means they cannot be used as elements in a set.\n",
    "\n",
    "In Python, sets can only contain hashable objects, which are objects that have a hash value that remains constant throughout the object's lifetime. Immutable objects like integers, strings, and tuples are hashable and can be used as elements in a set. However, mutable objects like lists and dictionaries are not hashable and cannot be used as elements in a set.\n",
    "\n",
    "To fix this error, you can use a tuple instead of a list to represent your elements:"
   ]
  },
  {
   "cell_type": "code",
   "execution_count": 5,
   "id": "9850902c",
   "metadata": {},
   "outputs": [
    {
     "ename": "TypeError",
     "evalue": "'set' object is not subscriptable",
     "output_type": "error",
     "traceback": [
      "\u001b[1;31m---------------------------------------------------------------------------\u001b[0m",
      "\u001b[1;31mTypeError\u001b[0m                                 Traceback (most recent call last)",
      "\u001b[1;32m<ipython-input-5-f9beea93d28a>\u001b[0m in \u001b[0;36m<module>\u001b[1;34m\u001b[0m\n\u001b[0;32m      1\u001b[0m \u001b[1;31m# remove alla lemnts\u001b[0m\u001b[1;33m\u001b[0m\u001b[1;33m\u001b[0m\u001b[1;33m\u001b[0m\u001b[0m\n\u001b[0;32m      2\u001b[0m \u001b[0mset1\u001b[0m\u001b[1;33m=\u001b[0m\u001b[1;33m{\u001b[0m\u001b[1;36m9\u001b[0m\u001b[1;33m,\u001b[0m\u001b[1;36m6\u001b[0m\u001b[1;33m,\u001b[0m\u001b[1;36m5\u001b[0m\u001b[1;33m,\u001b[0m\u001b[1;36m3\u001b[0m\u001b[1;33m,\u001b[0m\u001b[1;36m0\u001b[0m\u001b[1;33m,\u001b[0m\u001b[1;36m6\u001b[0m\u001b[1;33m}\u001b[0m\u001b[1;33m\u001b[0m\u001b[1;33m\u001b[0m\u001b[0m\n\u001b[1;32m----> 3\u001b[1;33m \u001b[0mset1\u001b[0m\u001b[1;33m.\u001b[0m\u001b[0mremove\u001b[0m\u001b[1;33m(\u001b[0m\u001b[0mset1\u001b[0m\u001b[1;33m[\u001b[0m\u001b[1;33m:\u001b[0m\u001b[1;33m]\u001b[0m\u001b[1;33m)\u001b[0m\u001b[1;33m\u001b[0m\u001b[1;33m\u001b[0m\u001b[0m\n\u001b[0m\u001b[0;32m      4\u001b[0m \u001b[0mprint\u001b[0m\u001b[1;33m(\u001b[0m\u001b[0mset1\u001b[0m\u001b[1;33m)\u001b[0m\u001b[1;33m\u001b[0m\u001b[1;33m\u001b[0m\u001b[0m\n",
      "\u001b[1;31mTypeError\u001b[0m: 'set' object is not subscriptable"
     ]
    }
   ],
   "source": [
    "# remove alla lemnts\n",
    "set1={9,6,5,3,0,6}\n",
    "#set1.remove(set1[:]\n",
    "print(set1)\n"
   ]
  },
  {
   "cell_type": "code",
   "execution_count": 8,
   "id": "be5132f3",
   "metadata": {},
   "outputs": [],
   "source": [
    "set1={9,6,5,3,0,6}\n",
    "del set1\n",
    "#print(set1)"
   ]
  },
  {
   "cell_type": "code",
   "execution_count": 9,
   "id": "0281f42e",
   "metadata": {},
   "outputs": [
    {
     "ename": "NameError",
     "evalue": "name 'set1' is not defined",
     "output_type": "error",
     "traceback": [
      "\u001b[1;31m---------------------------------------------------------------------------\u001b[0m",
      "\u001b[1;31mNameError\u001b[0m                                 Traceback (most recent call last)",
      "\u001b[1;32m<ipython-input-9-8cd1d147a36c>\u001b[0m in \u001b[0;36m<module>\u001b[1;34m\u001b[0m\n\u001b[1;32m----> 1\u001b[1;33m \u001b[0mprint\u001b[0m\u001b[1;33m(\u001b[0m\u001b[0mset1\u001b[0m\u001b[1;33m)\u001b[0m\u001b[1;33m\u001b[0m\u001b[1;33m\u001b[0m\u001b[0m\n\u001b[0m",
      "\u001b[1;31mNameError\u001b[0m: name 'set1' is not defined"
     ]
    }
   ],
   "source": [
    "print(set1)"
   ]
  },
  {
   "cell_type": "code",
   "execution_count": 11,
   "id": "6b9e2321",
   "metadata": {},
   "outputs": [
    {
     "name": "stdout",
     "output_type": "stream",
     "text": [
      "set()\n"
     ]
    }
   ],
   "source": [
    "# remove alla elemts of sets use clear()method\n",
    "set1={9,6,5,3,0,6}\n",
    "set1.clear()\n",
    "print(set1)"
   ]
  },
  {
   "cell_type": "code",
   "execution_count": 13,
   "id": "3fd0ab16",
   "metadata": {},
   "outputs": [
    {
     "name": "stdout",
     "output_type": "stream",
     "text": [
      "frozenset({0, 3, 5, 6, 9})\n"
     ]
    },
    {
     "ename": "AttributeError",
     "evalue": "'frozenset' object has no attribute 'add'",
     "output_type": "error",
     "traceback": [
      "\u001b[1;31m---------------------------------------------------------------------------\u001b[0m",
      "\u001b[1;31mAttributeError\u001b[0m                            Traceback (most recent call last)",
      "\u001b[1;32m<ipython-input-13-3362aa0ee767>\u001b[0m in \u001b[0;36m<module>\u001b[1;34m\u001b[0m\n\u001b[0;32m      3\u001b[0m \u001b[0mmy_frozenset\u001b[0m\u001b[1;33m=\u001b[0m\u001b[0mfrozenset\u001b[0m\u001b[1;33m(\u001b[0m\u001b[0mset1\u001b[0m\u001b[1;33m)\u001b[0m\u001b[1;33m\u001b[0m\u001b[1;33m\u001b[0m\u001b[0m\n\u001b[0;32m      4\u001b[0m \u001b[0mprint\u001b[0m\u001b[1;33m(\u001b[0m\u001b[0mmy_frozenset\u001b[0m\u001b[1;33m)\u001b[0m\u001b[1;33m\u001b[0m\u001b[1;33m\u001b[0m\u001b[0m\n\u001b[1;32m----> 5\u001b[1;33m \u001b[0mmy_frozenset\u001b[0m\u001b[1;33m.\u001b[0m\u001b[0madd\u001b[0m\u001b[1;33m(\u001b[0m\u001b[1;36m6\u001b[0m\u001b[1;33m)\u001b[0m\u001b[1;33m\u001b[0m\u001b[1;33m\u001b[0m\u001b[0m\n\u001b[0m\u001b[0;32m      6\u001b[0m \u001b[0mprint\u001b[0m\u001b[1;33m(\u001b[0m\u001b[0mmy_frozenset\u001b[0m\u001b[1;33m)\u001b[0m\u001b[1;33m\u001b[0m\u001b[1;33m\u001b[0m\u001b[0m\n",
      "\u001b[1;31mAttributeError\u001b[0m: 'frozenset' object has no attribute 'add'"
     ]
    }
   ],
   "source": [
    "# frozen sets are sets in which we cant add and remove the values\n",
    "set1={9,6,5,3,0,6}\n",
    "my_frozenset=frozenset(set1)\n",
    "print(my_frozenset)\n",
    "my_frozenset.add(6)\n",
    "print(my_frozenset)"
   ]
  },
  {
   "cell_type": "code",
   "execution_count": 14,
   "id": "111a0806",
   "metadata": {},
   "outputs": [
    {
     "name": "stdout",
     "output_type": "stream",
     "text": [
      "56.87\n"
     ]
    }
   ],
   "source": [
    "# max value \n",
    "num={56.87,0,7,-6}\n",
    "max_value=max(num)\n",
    "print(max_value)"
   ]
  },
  {
   "cell_type": "code",
   "execution_count": 15,
   "id": "aa923581",
   "metadata": {},
   "outputs": [
    {
     "name": "stdout",
     "output_type": "stream",
     "text": [
      "-6\n"
     ]
    }
   ],
   "source": [
    "#min value\n",
    "min_value=min(num)\n",
    "print(min_value)"
   ]
  },
  {
   "cell_type": "code",
   "execution_count": 16,
   "id": "3f331ab5",
   "metadata": {},
   "outputs": [
    {
     "name": "stdout",
     "output_type": "stream",
     "text": [
      "5\n"
     ]
    }
   ],
   "source": [
    "#len set\n",
    "print(len(set1))\n"
   ]
  },
  {
   "cell_type": "code",
   "execution_count": 17,
   "id": "670692c1",
   "metadata": {},
   "outputs": [
    {
     "name": "stdout",
     "output_type": "stream",
     "text": [
      "True\n"
     ]
    }
   ],
   "source": [
    "#use of in problem 16\n",
    "num={56.87,0,7,-6}\n",
    "print(0 in num)"
   ]
  },
  {
   "cell_type": "code",
   "execution_count": 19,
   "id": "266e5943",
   "metadata": {},
   "outputs": [
    {
     "name": "stdout",
     "output_type": "stream",
     "text": [
      "True\n"
     ]
    }
   ],
   "source": [
    "# Write a Python program to check if two given sets have no elements in common. \n",
    "num={7,8,9,0}\n",
    "num2={6,5,4,2,1}\n",
    "if num.isdisjoint(num2):\n",
    "    print(True)\n",
    "else:\n",
    "    print(False)"
   ]
  },
  {
   "cell_type": "code",
   "execution_count": 21,
   "id": "083a5d0e",
   "metadata": {},
   "outputs": [
    {
     "name": "stdout",
     "output_type": "stream",
     "text": [
      "great\n"
     ]
    }
   ],
   "source": [
    "# Write a Python program to check if a given set is a superset of itself and a superset of another given set.\n",
    "num={7,8,9,0}\n",
    "num2={6,5,4,2,1,7,8,9,0}\n",
    "if num2.issuperset(num):\n",
    "    print(\"great\")\n",
    "elif num2.issuperset(num2):\n",
    "    print(\"strange\")\n",
    "else:\n",
    "    print(\"false\")"
   ]
  },
  {
   "cell_type": "code",
   "execution_count": 22,
   "id": "8faa18ec",
   "metadata": {},
   "outputs": [
    {
     "name": "stdout",
     "output_type": "stream",
     "text": [
      "set_1 is a superset of itself.\n",
      "set_1 is a superset of set_2.\n"
     ]
    }
   ],
   "source": [
    "# Create two sets\n",
    "set_1 = {1, 2, 3, 4, 5}\n",
    "set_2 = {1, 2, 3}\n",
    "\n",
    "# Check if set_1 is a superset of itself using the issuperset() method\n",
    "if set_1.issuperset(set_1):\n",
    "    print(\"set_1 is a superset of itself.\")\n",
    "else:\n",
    "    print(\"set_1 is not a superset of itself.\")\n",
    "\n",
    "# Check if set_1 is a superset of set_2 using the issuperset() method\n",
    "if set_1.issuperset(set_2):\n",
    "    print(\"set_1 is a superset of set_2.\")\n",
    "else:\n",
    "    print(\"set_1 is not a superset of set_2.\") "
   ]
  },
  {
   "cell_type": "code",
   "execution_count": 31,
   "id": "8a45c09a",
   "metadata": {},
   "outputs": [
    {
     "name": "stdout",
     "output_type": "stream",
     "text": [
      "{1, 2, 3}\n",
      "set()\n",
      "None\n"
     ]
    }
   ],
   "source": [
    "#write a Python program to remove the intersection of a second set with a first set.\n",
    "set_1 = {1, 2, 3, 4, 5}\n",
    "set_2 = {1, 2, 3}\n",
    "set3=set_1.intersection(set_2)\n",
    "print(set3)\n",
    "set3.clear()\n",
    "print(set3)\n",
    "print(set3.clear())"
   ]
  },
  {
   "cell_type": "code",
   "execution_count": 30,
   "id": "a8d00682",
   "metadata": {},
   "outputs": [
    {
     "name": "stdout",
     "output_type": "stream",
     "text": [
      "Updated set_1:  {1, 2}\n"
     ]
    }
   ],
   "source": [
    "# Create two sets\n",
    "set_1 = {1, 2, 3, 4, 5}\n",
    "set_2 = {3, 4, 5, 6, 7}\n",
    "\n",
    "# Remove the intersection of set_2 with set_1 using the difference_update() method\n",
    "set_1.difference_update(set_2)\n",
    "\n",
    "# Print the updated set_1\n",
    "print(\"Updated set_1: \", set_1)"
   ]
  },
  {
   "cell_type": "code",
   "execution_count": 34,
   "id": "73c80e09",
   "metadata": {},
   "outputs": [
    {
     "name": "stdout",
     "output_type": "stream",
     "text": [
      "{'second'}\n"
     ]
    }
   ],
   "source": [
    "# method to remove intersection \n",
    "set1={\"jiya\",\"malik\",\"second\"}\n",
    "set2={\"jiya\",\"malik\",\"spmething\"}\n",
    "set1.difference_update(set2)\n",
    "print(set1)"
   ]
  },
  {
   "cell_type": "code",
   "execution_count": 35,
   "id": "23dfdaeb",
   "metadata": {},
   "outputs": [
    {
     "name": "stdout",
     "output_type": "stream",
     "text": [
      "quick: 2\n",
      "jumps: 2\n",
      "the: 3\n",
      "brown: 2\n",
      "dog: 2\n",
      "over: 2\n",
      "fox: 2\n",
      "lazy: 2\n"
     ]
    }
   ],
   "source": [
    "string_list = ['the quick brown fox', 'jumps over the lazy dog', 'the quick brown fox jumps over the lazy dog']\n",
    "\n",
    "# Create an empty set to store unique words\n",
    "unique_words = set()\n",
    "\n",
    "# Iterate through each string in the list\n",
    "for string in string_list:\n",
    "    # Split the string into words\n",
    "    words = string.split()\n",
    "\n",
    "    # Add each word to the set of unique words\n",
    "    unique_words.update(words)\n",
    "\n",
    "# Iterate through the set of unique words\n",
    "for word in unique_words:\n",
    "    # Count the number of occurrences of the word in the list of strings\n",
    "    count = sum([1 for string in string_list if word in string])\n",
    "\n",
    "    # Print the word and its frequency of occurrence\n",
    "    print(f\"{word}: {count}\")\n"
   ]
  },
  {
   "cell_type": "code",
   "execution_count": 17,
   "id": "c109693d",
   "metadata": {},
   "outputs": [
    {
     "name": "stdout",
     "output_type": "stream",
     "text": [
      "['hello', 'jiya']\n",
      "{'e', 'j', 'h', 'a', 'o', 'i', 'y', 'l'}\n"
     ]
    },
    {
     "ename": "SyntaxError",
     "evalue": "'return' outside function (<ipython-input-17-009db1c4a58f>, line 9)",
     "output_type": "error",
     "traceback": [
      "\u001b[1;36m  File \u001b[1;32m\"<ipython-input-17-009db1c4a58f>\"\u001b[1;36m, line \u001b[1;32m9\u001b[0m\n\u001b[1;33m    return count\u001b[0m\n\u001b[1;37m    ^\u001b[0m\n\u001b[1;31mSyntaxError\u001b[0m\u001b[1;31m:\u001b[0m 'return' outside function\n"
     ]
    }
   ],
   "source": [
    "str=\"hello jiya\"\n",
    "words=str.split()\n",
    "print(words)\n",
    "words = set(' '.join(str).split())\n",
    "print(words)\n",
    "count={}\n",
    "for word in words:\n",
    "        count[word] = sum(string.count(word) for string in str)\n",
    "        return count"
   ]
  },
  {
   "cell_type": "code",
   "execution_count": 19,
   "id": "066030f1",
   "metadata": {},
   "outputs": [
    {
     "name": "stdout",
     "output_type": "stream",
     "text": [
      "{'lazy': 1, 'dog': 1, 'jumps': 1, 'the': 2, 'fox': 1, 'quick': 1, 'brown': 1, 'over': 1}\n"
     ]
    }
   ],
   "source": [
    "def count_words(strings):\n",
    "    words = set(' '.join(strings).split())\n",
    "    count = {}\n",
    "    for word in words:\n",
    "        count[word] = sum(string.count(word) for string in strings)\n",
    "    return count\n",
    "\n",
    "# Example usage\n",
    "strings = ['the quick brown fox', 'jumps over the lazy dog']\n",
    "print(count_words(strings))"
   ]
  },
  {
   "cell_type": "code",
   "execution_count": 7,
   "id": "2949d1fc",
   "metadata": {},
   "outputs": [
    {
     "name": "stdout",
     "output_type": "stream",
     "text": [
      "{'lady': 1, 'to': 1, 'hello': 1, 'u': 1, 'nice': 1, 'meet': 1}\n"
     ]
    }
   ],
   "source": [
    "def count_words(strings):\n",
    "    words=set(\" \".join(strings).split())\n",
    "    count={}\n",
    "    for word in words:\n",
    "        count[word]=sum(string.count(word)for string in strings)\n",
    "    return count\n",
    "strings=\"hello lady\",\"nice to meet u \"\n",
    "print(count_words(strings))"
   ]
  },
  {
   "cell_type": "code",
   "execution_count": 20,
   "id": "d87e365b",
   "metadata": {},
   "outputs": [
    {
     "name": "stdout",
     "output_type": "stream",
     "text": [
      "[(2, 10), (4, 8)]\n"
     ]
    }
   ],
   "source": [
    "# Write a Python program that finds all pairs of elements in a list whose sum is equal to a given value.\n",
    "def find_pairs(lst,target):\n",
    "    pairs=[]\n",
    "    for i in range(len(lst)):\n",
    "        for j in range((i+1),len(lst)):\n",
    "            if list[i]+list[j]==target:\n",
    "                pairs.append((lst[i],lst[j]))\n",
    "    return pairs\n",
    "list = [2, 4, 6, 8, 10]\n",
    "target = 12\n",
    "result = find_pairs(list, target)\n",
    "print(result)\n",
    "            "
   ]
  },
  {
   "cell_type": "code",
   "execution_count": 16,
   "id": "6b46bbdd",
   "metadata": {},
   "outputs": [
    {
     "name": "stdout",
     "output_type": "stream",
     "text": [
      "[(2, 10), (4, 8)]\n"
     ]
    }
   ],
   "source": [
    "def find_pairs(lst, target):\n",
    "    pairs = []\n",
    "    for i in range(len(lst)):\n",
    "        for j in range((i + 1), len(lst)):\n",
    "            if list[i] + list[j] == target:\n",
    "                pairs.append((lst[i],lst[j]))\n",
    "    return pairs\n",
    "\n",
    "list = [2, 4, 6, 8, 10]\n",
    "target = 12\n",
    "result = find_pairs(list, target)\n",
    "print(result)\n"
   ]
  },
  {
   "cell_type": "code",
   "execution_count": 1,
   "id": "a4ba32b9",
   "metadata": {},
   "outputs": [
    {
     "name": "stdout",
     "output_type": "stream",
     "text": [
      "['38', '9', '3', '6', '7', '4']\n"
     ]
    }
   ],
   "source": [
    "#Write a Python program to find the longest common prefix of all strings. Use the Python set. \n",
    "def remove_duplicates(str):\n",
    "    unique = set(str)\n",
    "    return list(unique)\n",
    "str=[\"7\",\"9\",\"4\",\"3\",\"38\",\"6\",\"3\"]\n",
    "unique=remove_duplicates(str)\n",
    "print(unique)"
   ]
  },
  {
   "cell_type": "code",
   "execution_count": 2,
   "id": "c37fb2a0",
   "metadata": {},
   "outputs": [
    {
     "name": "stdout",
     "output_type": "stream",
     "text": [
      "{'38', '9', '3', '6', '7', '4'}\n"
     ]
    }
   ],
   "source": [
    "str=[\"7\",\"9\",\"4\",\"3\",\"38\",\"6\",\"3\"]\n",
    "str2=set(str)\n",
    "print(str2)"
   ]
  },
  {
   "cell_type": "code",
   "execution_count": 12,
   "id": "5047787f",
   "metadata": {},
   "outputs": [
    {
     "name": "stdout",
     "output_type": "stream",
     "text": [
      "6\n"
     ]
    }
   ],
   "source": [
    "# write a python program to get the larget number\n",
    "def largest_number(str):\n",
    "    unique=set(str)\n",
    "    if len(unique)<3:\n",
    "        return(\"not eligible\")\n",
    "    else:\n",
    "        sorted_list=sorted(unique,reverse=True)\n",
    "        return(sorted_list[2])\n",
    "str=[8,6,4,3,3,4,5,9]\n",
    "unique=largest_number(str)\n",
    "print(unique)"
   ]
  },
  {
   "cell_type": "code",
   "execution_count": 9,
   "id": "d67c420a",
   "metadata": {},
   "outputs": [
    {
     "name": "stdout",
     "output_type": "stream",
     "text": [
      "5\n"
     ]
    }
   ],
   "source": [
    "def find_third_largest(numbers_list):\n",
    "    unique_numbers = set(numbers_list)\n",
    "    if len(unique_numbers) < 3:\n",
    "        return \"Not enough unique numbers to find the third largest.\"\n",
    "    else:\n",
    "        sorted_numbers = sorted(unique_numbers, reverse=True)\n",
    "        return sorted_numbers[2]\n",
    "numbers_list = [2, 5, 8, 1, 9, 5, 3, 8]\n",
    "third_largest = find_third_largest(numbers_list)\n",
    "print(third_largest) "
   ]
  },
  {
   "cell_type": "code",
   "execution_count": null,
   "id": "90bcb5e8",
   "metadata": {},
   "outputs": [],
   "source": []
  }
 ],
 "metadata": {
  "kernelspec": {
   "display_name": "Python 3",
   "language": "python",
   "name": "python3"
  },
  "language_info": {
   "codemirror_mode": {
    "name": "ipython",
    "version": 3
   },
   "file_extension": ".py",
   "mimetype": "text/x-python",
   "name": "python",
   "nbconvert_exporter": "python",
   "pygments_lexer": "ipython3",
   "version": "3.8.8"
  }
 },
 "nbformat": 4,
 "nbformat_minor": 5
}
