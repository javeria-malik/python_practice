{
 "cells": [
  {
   "cell_type": "code",
   "execution_count": 7,
   "id": "1a9d50b4",
   "metadata": {},
   "outputs": [
    {
     "name": "stdout",
     "output_type": "stream",
     "text": [
      "dict_items([('name', 'jiya'), ('age', 21), ('hobby', 'nothing')])\n",
      "{'name': 'jiya', 'age': 21, 'hobby': 'nothing'}\n"
     ]
    }
   ],
   "source": [
    "dic={\n",
    "    \"name\":\"jiya\",\n",
    "    \"age\":21,\n",
    "    \"hobby\":\"nothing\"\n",
    "}\n",
    "print(dic.items())\n",
    "print(dic)"
   ]
  },
  {
   "cell_type": "code",
   "execution_count": 4,
   "id": "8efacab5",
   "metadata": {},
   "outputs": [
    {
     "name": "stdout",
     "output_type": "stream",
     "text": [
      "dict_keys(['name', 'age', 'hobby'])\n"
     ]
    }
   ],
   "source": [
    "# aceesing all the keys\n",
    "print(dic.keys())"
   ]
  },
  {
   "cell_type": "code",
   "execution_count": 5,
   "id": "d489398b",
   "metadata": {},
   "outputs": [
    {
     "name": "stdout",
     "output_type": "stream",
     "text": [
      "dict_values(['jiya', 21, 'nothing'])\n"
     ]
    }
   ],
   "source": [
    "# accessing all the values\n",
    "print(dic.values())"
   ]
  },
  {
   "cell_type": "code",
   "execution_count": 17,
   "id": "dee3d69a",
   "metadata": {},
   "outputs": [
    {
     "name": "stdout",
     "output_type": "stream",
     "text": [
      "jiya\n",
      "21\n",
      "None\n"
     ]
    }
   ],
   "source": [
    "#access specific value \n",
    "print(dic[\"name\"])\n",
    "print(dic.get(\"age\"))\n",
    "print(dic.get(\"jiya\"))# will give none value\n",
    "#print(dic[\"jiya\"])# will give error "
   ]
  },
  {
   "cell_type": "code",
   "execution_count": 22,
   "id": "5fbff145",
   "metadata": {},
   "outputs": [
    {
     "name": "stdout",
     "output_type": "stream",
     "text": [
      "name\n",
      "age\n",
      "hobby\n"
     ]
    }
   ],
   "source": [
    "# get all key useing for loop\n",
    "for key in dic.keys():\n",
    "    #print(dic[key])\n",
    "    print(key)"
   ]
  },
  {
   "cell_type": "code",
   "execution_count": 21,
   "id": "c150bf7f",
   "metadata": {},
   "outputs": [
    {
     "name": "stdout",
     "output_type": "stream",
     "text": [
      "jiya\n",
      "21\n",
      "nothing\n"
     ]
    }
   ],
   "source": [
    "# get all values using for loop\n",
    "for value in dic.values():\n",
    "    print(value)"
   ]
  },
  {
   "cell_type": "code",
   "execution_count": 24,
   "id": "d0725b10",
   "metadata": {},
   "outputs": [
    {
     "name": "stdout",
     "output_type": "stream",
     "text": [
      "jiya hobby\n",
      "hobby jiya\n",
      "21 hobby\n",
      "hobby 21\n",
      "nothing hobby\n",
      "hobby nothing\n"
     ]
    }
   ],
   "source": [
    "# if want to print both value and keys than \n",
    "for value in dic.values():\n",
    "    print(value,key)\n",
    "    print(key,value)"
   ]
  },
  {
   "cell_type": "code",
   "execution_count": 29,
   "id": "6a2e7f84",
   "metadata": {},
   "outputs": [
    {
     "name": "stdout",
     "output_type": "stream",
     "text": [
      "{'name': 'jiya', 'age': 21, 'hobby': 'some'}\n"
     ]
    }
   ],
   "source": [
    "dic={\n",
    "    \"name\":\"jiya\",\n",
    "    \"age\":21,\n",
    "    \"hobby\":\"nothing\",\n",
    "    \"hobby\":\"some\"\n",
    "}\n",
    "print(dic)"
   ]
  },
  {
   "cell_type": "code",
   "execution_count": 33,
   "id": "90c93be1",
   "metadata": {},
   "outputs": [
    {
     "ename": "SyntaxError",
     "evalue": "illegal target for annotation (<ipython-input-33-f8f5f2c37975>, line 6)",
     "output_type": "error",
     "traceback": [
      "\u001b[1;36m  File \u001b[1;32m\"<ipython-input-33-f8f5f2c37975>\"\u001b[1;36m, line \u001b[1;32m6\u001b[0m\n\u001b[1;33m    \"hobby\":\"some\"\u001b[0m\n\u001b[1;37m    ^\u001b[0m\n\u001b[1;31mSyntaxError\u001b[0m\u001b[1;31m:\u001b[0m illegal target for annotation\n"
     ]
    }
   ],
   "source": [
    "dic={\n",
    "    \"name\":\"jiya\",\n",
    "    \"age\":21,\n",
    "    \"hobby\":\"nothing\",\n",
    "    \"hobby\":\"some\"\n",
    "}\n",
    "print(dic)"
   ]
  },
  {
   "cell_type": "code",
   "execution_count": 36,
   "id": "e8002215",
   "metadata": {},
   "outputs": [
    {
     "name": "stdout",
     "output_type": "stream",
     "text": [
      "Ascending Order: [('apple', 20), ('banana', 10), ('grape', 5), ('orange', 30)]\n",
      "Descending Order: [('orange', 30), ('grape', 5), ('banana', 10), ('apple', 20)]\n"
     ]
    }
   ],
   "source": [
    "#problem 1\n",
    "# define a sample dictionary\n",
    "my_dict = {'apple': 20, 'banana': 10, 'orange': 30, 'grape': 5}\n",
    "\n",
    "# sort the dictionary in ascending order by value\n",
    "sorted_dict = sorted(my_dict.items())\n",
    "\n",
    "# print the sorted dictionary in ascending order by value\n",
    "print(\"Ascending Order:\", sorted_dict)\n",
    "\n",
    "# sort the dictionary in descending order by value\n",
    "sorted_dict = sorted(my_dict.items(), reverse=True)\n",
    "\n",
    "# print the sorted dictionary in descending order by value\n",
    "print(\"Descending Order:\", sorted_dict)\n"
   ]
  },
  {
   "cell_type": "code",
   "execution_count": 38,
   "id": "7a18e8ab",
   "metadata": {},
   "outputs": [],
   "source": [
    "def fibonacci(n):\n",
    "    if n < 0:\n",
    "        raise ValueError(\"Cannot find fibonacci sequence for negative numbers\")\n",
    "    elif n == 0:\n",
    "        return 0\n",
    "    elif n == 1:\n",
    "        return 1\n",
    "    else:\n",
    "        return fibonacci(n-1) + fibonacci(n-2)\n"
   ]
  },
  {
   "cell_type": "code",
   "execution_count": 43,
   "id": "79867d6f",
   "metadata": {},
   "outputs": [
    {
     "ename": "ValueError",
     "evalue": "Cannot find fibonacci sequence for negative numbers",
     "output_type": "error",
     "traceback": [
      "\u001b[1;31m---------------------------------------------------------------------------\u001b[0m",
      "\u001b[1;31mValueError\u001b[0m                                Traceback (most recent call last)",
      "\u001b[1;32m<ipython-input-43-8a08cd747e84>\u001b[0m in \u001b[0;36m<module>\u001b[1;34m\u001b[0m\n\u001b[1;32m----> 1\u001b[1;33m \u001b[0mfibonacci\u001b[0m\u001b[1;33m(\u001b[0m\u001b[1;33m-\u001b[0m\u001b[1;36m9\u001b[0m\u001b[1;33m)\u001b[0m\u001b[1;33m\u001b[0m\u001b[1;33m\u001b[0m\u001b[0m\n\u001b[0m",
      "\u001b[1;32m<ipython-input-38-2d9cb497eb40>\u001b[0m in \u001b[0;36mfibonacci\u001b[1;34m(n)\u001b[0m\n\u001b[0;32m      1\u001b[0m \u001b[1;32mdef\u001b[0m \u001b[0mfibonacci\u001b[0m\u001b[1;33m(\u001b[0m\u001b[0mn\u001b[0m\u001b[1;33m)\u001b[0m\u001b[1;33m:\u001b[0m\u001b[1;33m\u001b[0m\u001b[1;33m\u001b[0m\u001b[0m\n\u001b[0;32m      2\u001b[0m     \u001b[1;32mif\u001b[0m \u001b[0mn\u001b[0m \u001b[1;33m<\u001b[0m \u001b[1;36m0\u001b[0m\u001b[1;33m:\u001b[0m\u001b[1;33m\u001b[0m\u001b[1;33m\u001b[0m\u001b[0m\n\u001b[1;32m----> 3\u001b[1;33m         \u001b[1;32mraise\u001b[0m \u001b[0mValueError\u001b[0m\u001b[1;33m(\u001b[0m\u001b[1;34m\"Cannot find fibonacci sequence for negative numbers\"\u001b[0m\u001b[1;33m)\u001b[0m\u001b[1;33m\u001b[0m\u001b[1;33m\u001b[0m\u001b[0m\n\u001b[0m\u001b[0;32m      4\u001b[0m     \u001b[1;32melif\u001b[0m \u001b[0mn\u001b[0m \u001b[1;33m==\u001b[0m \u001b[1;36m0\u001b[0m\u001b[1;33m:\u001b[0m\u001b[1;33m\u001b[0m\u001b[1;33m\u001b[0m\u001b[0m\n\u001b[0;32m      5\u001b[0m         \u001b[1;32mreturn\u001b[0m \u001b[1;36m0\u001b[0m\u001b[1;33m\u001b[0m\u001b[1;33m\u001b[0m\u001b[0m\n",
      "\u001b[1;31mValueError\u001b[0m: Cannot find fibonacci sequence for negative numbers"
     ]
    }
   ],
   "source": [
    "fibonacci(-9)"
   ]
  },
  {
   "cell_type": "code",
   "execution_count": 7,
   "id": "a5e5c371",
   "metadata": {},
   "outputs": [
    {
     "ename": "SyntaxError",
     "evalue": "invalid syntax (<ipython-input-7-944287433583>, line 8)",
     "output_type": "error",
     "traceback": [
      "\u001b[1;36m  File \u001b[1;32m\"<ipython-input-7-944287433583>\"\u001b[1;36m, line \u001b[1;32m8\u001b[0m\n\u001b[1;33m    print(dic(\"name\":30))\u001b[0m\n\u001b[1;37m                    ^\u001b[0m\n\u001b[1;31mSyntaxError\u001b[0m\u001b[1;31m:\u001b[0m invalid syntax\n"
     ]
    }
   ],
   "source": [
    "#adding vallue\n",
    "dic={\n",
    "    \"name\":\"jiya\",\n",
    "    \"age\":21,\n",
    "    \"hobby\":\"nothing\"\n",
    "}\n",
    "#\"number\":30    \n",
    "print(dic(\"name\":30))\n"
   ]
  },
  {
   "cell_type": "code",
   "execution_count": 8,
   "id": "cc84a7da",
   "metadata": {},
   "outputs": [
    {
     "name": "stdout",
     "output_type": "stream",
     "text": [
      "{'name': 'jiya', 'age': 21, 'hobby': 'nothing', 'condition': 70}\n"
     ]
    }
   ],
   "source": [
    "# adding\n",
    "dic={\n",
    "    \"name\":\"jiya\",\n",
    "    \"age\":21,\n",
    "    \"hobby\":\"nothing\"\n",
    "}\n",
    "dic[\"condition\"]=70\n",
    "print(dic)"
   ]
  },
  {
   "cell_type": "code",
   "execution_count": 14,
   "id": "ea8eafdc",
   "metadata": {},
   "outputs": [
    {
     "name": "stdout",
     "output_type": "stream",
     "text": [
      "{0: 10, 1: 20, 2: 30}\n"
     ]
    }
   ],
   "source": [
    "# problem 2\n",
    "#Write a Python script to add a key to a dictionary. Go to the editor\n",
    "Sample_Dictionary = {\n",
    "                     0: 10,\n",
    "                     1: 20\n",
    "                    }\n",
    "Sample_Dictionary[2]=30\n",
    "print(Sample_Dictionary)"
   ]
  },
  {
   "cell_type": "code",
   "execution_count": 21,
   "id": "ed4c6a91",
   "metadata": {},
   "outputs": [
    {
     "ename": "SyntaxError",
     "evalue": "invalid syntax (<ipython-input-21-6a72f069c8af>, line 16)",
     "output_type": "error",
     "traceback": [
      "\u001b[1;36m  File \u001b[1;32m\"<ipython-input-21-6a72f069c8af>\"\u001b[1;36m, line \u001b[1;32m16\u001b[0m\n\u001b[1;33m    newdic={\"dic1\":\"dic2\":\"dic3\"}\u001b[0m\n\u001b[1;37m                         ^\u001b[0m\n\u001b[1;31mSyntaxError\u001b[0m\u001b[1;31m:\u001b[0m invalid syntax\n"
     ]
    }
   ],
   "source": [
    "# problem 3\n",
    "Sample_Dictionary={\n",
    "    \"dic1\":{\n",
    "     1:10, \n",
    "     2:20\n",
    "  },\n",
    "    \"dic2\":{\n",
    "     3:30, \n",
    "     4:40\n",
    "  },\n",
    "    \"dic3\":{\n",
    "     5:50,\n",
    "     6:60\n",
    "      }\n",
    "}\n",
    "newdic={\"dic1\":\"dic2\":\"dic3\"}\n",
    "print(newdic)"
   ]
  },
  {
   "cell_type": "code",
   "execution_count": 32,
   "id": "e039cb2f",
   "metadata": {},
   "outputs": [
    {
     "name": "stdout",
     "output_type": "stream",
     "text": [
      "{'dic1': {1: 50, 2: 80}, 'dic2': {3: 80, 4: 70}, 'dic3': {6: 70, 5: 9}}\n"
     ]
    }
   ],
   "source": [
    "#problem 3\n",
    "dic1={\n",
    "    1:50,\n",
    "    2:80\n",
    "}\n",
    "dic2={\n",
    "    3:80,\n",
    "    4:70\n",
    "}\n",
    "dic3={\n",
    "    6:70,\n",
    "    5:9\n",
    "}\n",
    "\n",
    "newdic={\n",
    "    \"dic1\" : dic1,\n",
    "    \"dic2\" : dic2,\n",
    "    \"dic3\" : dic3\n",
    "}\n",
    "print(newdic)"
   ]
  },
  {
   "cell_type": "code",
   "execution_count": 2,
   "id": "fa1e2b4c",
   "metadata": {},
   "outputs": [
    {
     "name": "stdout",
     "output_type": "stream",
     "text": [
      "yes\n"
     ]
    }
   ],
   "source": [
    "# problem 3\n",
    "#Write a Python script to check whether a given key already exists in a dictionary\n",
    "dic={\n",
    "    \"name\":\"jiya\",\n",
    "    \"age\":21,\n",
    "    \"hobby\":\"nothing\"\n",
    "}\n",
    "if \"name\" in dic:\n",
    "    print(\"yes\")\n",
    "else:\n",
    "    print(\"false\")"
   ]
  },
  {
   "cell_type": "code",
   "execution_count": 4,
   "id": "4f838fca",
   "metadata": {},
   "outputs": [
    {
     "name": "stdout",
     "output_type": "stream",
     "text": [
      "true\n"
     ]
    }
   ],
   "source": [
    "# problem with creating functiom\n",
    "def check_key(key):\n",
    "    if key in dic:\n",
    "        print(\"true\")\n",
    "    else:\n",
    "        print(\"false\")\n",
    "check_key(\"age\")"
   ]
  },
  {
   "cell_type": "code",
   "execution_count": 5,
   "id": "fdc6bf5f",
   "metadata": {},
   "outputs": [
    {
     "name": "stdout",
     "output_type": "stream",
     "text": [
      "name\n",
      "age\n",
      "hobby\n"
     ]
    }
   ],
   "source": [
    "# Write a Python program to iterate over dictionaries using for loop\n",
    "for x in dic:\n",
    "    print(x)"
   ]
  },
  {
   "cell_type": "code",
   "execution_count": 6,
   "id": "6a311f39",
   "metadata": {},
   "outputs": [
    {
     "name": "stdout",
     "output_type": "stream",
     "text": [
      "jiya\n",
      "21\n",
      "nothing\n"
     ]
    }
   ],
   "source": [
    "for x in dic.values():\n",
    "    print(x)"
   ]
  },
  {
   "cell_type": "code",
   "execution_count": 7,
   "id": "3312c32f",
   "metadata": {},
   "outputs": [
    {
     "name": "stdout",
     "output_type": "stream",
     "text": [
      "['name']\n",
      "['age']\n",
      "['hobby']\n"
     ]
    }
   ],
   "source": [
    "for x in dic:\n",
    "    print([x])"
   ]
  },
  {
   "cell_type": "code",
   "execution_count": 14,
   "id": "b2b6b6f8",
   "metadata": {},
   "outputs": [
    {
     "name": "stdout",
     "output_type": "stream",
     "text": [
      "x = 10\n",
      "y = 20\n",
      "z = 30\n"
     ]
    }
   ],
   "source": [
    "# iteration\n",
    "d = {'x': 10, 'y': 20, 'z': 30} \n",
    "for dict_key,dict_values in d.items():\n",
    "    print(dict_key,\"=\",dict_values)"
   ]
  },
  {
   "cell_type": "code",
   "execution_count": 15,
   "id": "73ededa4",
   "metadata": {},
   "outputs": [
    {
     "name": "stdout",
     "output_type": "stream",
     "text": [
      "x : 10\n",
      "y : 20\n",
      "z : 30\n"
     ]
    }
   ],
   "source": [
    "# iteration over dictionary \n",
    "d = {'x': 10, 'y': 20, 'z': 30} \n",
    "for dict_key, dict_value in d.items():\n",
    "    print(dict_key,':',dict_value)"
   ]
  },
  {
   "cell_type": "code",
   "execution_count": 23,
   "id": "9425c333",
   "metadata": {},
   "outputs": [
    {
     "name": "stdout",
     "output_type": "stream",
     "text": [
      "n5\n",
      "{1: 1}\n",
      "{1: 1, 2: 4}\n",
      "{1: 1, 2: 4, 3: 9}\n",
      "{1: 1, 2: 4, 3: 9, 4: 16}\n",
      "{1: 1, 2: 4, 3: 9, 4: 16, 5: 25}\n"
     ]
    }
   ],
   "source": [
    "#Write a Python script to generate and print a dictionary that contains a number (between 1 and n) in the form (x, x*x). \n",
    "#Sample Dictionary ( n = 5) :\n",
    "#Expected Output : {1: 1, 2: 4, 3: 9, 4: 16, 5: 25}\n",
    "n=int(input(\"n\"))\n",
    "d= dict()\n",
    "for x in range(1,n+1):\n",
    "    d[x]=x*x\n",
    "    print(d)"
   ]
  },
  {
   "cell_type": "code",
   "execution_count": 25,
   "id": "ac6febfe",
   "metadata": {},
   "outputs": [
    {
     "name": "stdout",
     "output_type": "stream",
     "text": [
      "{1: 1}\n",
      "{1: 1, 2: 4}\n",
      "{1: 1, 2: 4, 3: 9}\n",
      "{1: 1, 2: 4, 3: 9, 4: 16}\n",
      "{1: 1, 2: 4, 3: 9, 4: 16, 5: 25}\n",
      "{1: 1, 2: 4, 3: 9, 4: 16, 5: 25, 6: 36}\n",
      "{1: 1, 2: 4, 3: 9, 4: 16, 5: 25, 6: 36, 7: 49}\n",
      "{1: 1, 2: 4, 3: 9, 4: 16, 5: 25, 6: 36, 7: 49, 8: 64}\n",
      "{1: 1, 2: 4, 3: 9, 4: 16, 5: 25, 6: 36, 7: 49, 8: 64, 9: 81}\n",
      "{1: 1, 2: 4, 3: 9, 4: 16, 5: 25, 6: 36, 7: 49, 8: 64, 9: 81, 10: 100}\n",
      "{1: 1, 2: 4, 3: 9, 4: 16, 5: 25, 6: 36, 7: 49, 8: 64, 9: 81, 10: 100, 11: 121}\n",
      "{1: 1, 2: 4, 3: 9, 4: 16, 5: 25, 6: 36, 7: 49, 8: 64, 9: 81, 10: 100, 11: 121, 12: 144}\n",
      "{1: 1, 2: 4, 3: 9, 4: 16, 5: 25, 6: 36, 7: 49, 8: 64, 9: 81, 10: 100, 11: 121, 12: 144, 13: 169}\n",
      "{1: 1, 2: 4, 3: 9, 4: 16, 5: 25, 6: 36, 7: 49, 8: 64, 9: 81, 10: 100, 11: 121, 12: 144, 13: 169, 14: 196}\n",
      "{1: 1, 2: 4, 3: 9, 4: 16, 5: 25, 6: 36, 7: 49, 8: 64, 9: 81, 10: 100, 11: 121, 12: 144, 13: 169, 14: 196, 15: 225}\n"
     ]
    }
   ],
   "source": [
    "# to print a dictionary where the keys are numbers between 1 and 15 and the values are the square of the keys. \n",
    "#Sample Dictionary\n",
    "#{1: 1, 2: 4, 3: 9, 4: 16, 5: 25, 6: 36, 7: 49, 8: 64, 9: 81, 10: 100, 11: 121, 12: 144, 13: 169, 14: 196, 15: 225}\n",
    "d=dict()\n",
    "for x in range(1,16):\n",
    "    d[x]=x*x\n",
    "    print(d)\n"
   ]
  },
  {
   "cell_type": "code",
   "execution_count": 2,
   "id": "eb462466",
   "metadata": {},
   "outputs": [
    {
     "name": "stdout",
     "output_type": "stream",
     "text": [
      "{'name': 'jiya', 'hobby': 'nothing'}\n"
     ]
    }
   ],
   "source": [
    "#rite a Python program to remove a key from a dictionary. \n",
    "dic={\n",
    "    \"name\":\"jiya\",\n",
    "    \"age\":21,\n",
    "    \"hobby\":\"nothing\"\n",
    "}\n",
    "dic.pop(\"age\")\n",
    "print(dic)"
   ]
  },
  {
   "cell_type": "code",
   "execution_count": 5,
   "id": "bf5912a2",
   "metadata": {},
   "outputs": [
    {
     "name": "stdout",
     "output_type": "stream",
     "text": [
      "{'child1': {'name': 'jiya', 'age': '21', 'deg': 'bsse'}, 'child2': {'name': 'f', 'age': '23', 'degree': 'bsse'}, 'child3': {'name': 'd', 'age': '23', 'degree': 'bsse'}}\n"
     ]
    }
   ],
   "source": [
    "#Write a Python program to map two lists into a dictionar\n",
    "\n",
    "s1={\n",
    "    \"child1\":{\n",
    "    \"name\":\"jiya\",\n",
    "    \"age\":\"21\",\n",
    "    \"deg\":\"bsse\"\n",
    "    },\n",
    "    \"child2\":{\n",
    "        \"name\":\"f\",\n",
    "        \"age\":\"23\",\n",
    "        \"degree\":\"bsse\"\n",
    "    },\n",
    "    \"child3\":{\n",
    "        \"name\":\"d\",\n",
    "        \"age\":\"23\",\n",
    "        \"degree\":\"bsse\"\n",
    "    }\n",
    "}\n",
    "print(s1)"
   ]
  },
  {
   "cell_type": "code",
   "execution_count": null,
   "id": "99b0c252",
   "metadata": {},
   "outputs": [],
   "source": []
  }
 ],
 "metadata": {
  "kernelspec": {
   "display_name": "Python 3",
   "language": "python",
   "name": "python3"
  },
  "language_info": {
   "codemirror_mode": {
    "name": "ipython",
    "version": 3
   },
   "file_extension": ".py",
   "mimetype": "text/x-python",
   "name": "python",
   "nbconvert_exporter": "python",
   "pygments_lexer": "ipython3",
   "version": "3.8.8"
  }
 },
 "nbformat": 4,
 "nbformat_minor": 5
}
