{
 "cells": [
  {
   "cell_type": "code",
   "execution_count": 2,
   "id": "d17ab982",
   "metadata": {},
   "outputs": [
    {
     "ename": "ValueError",
     "evalue": "comdition might be",
     "output_type": "error",
     "traceback": [
      "\u001b[1;31m---------------------------------------------------------------------------\u001b[0m",
      "\u001b[1;31mValueError\u001b[0m                                Traceback (most recent call last)",
      "\u001b[1;32m<ipython-input-2-38222b6009b7>\u001b[0m in \u001b[0;36m<module>\u001b[1;34m\u001b[0m\n\u001b[0;32m      2\u001b[0m \u001b[0ma\u001b[0m\u001b[1;33m=\u001b[0m\u001b[1;36m15\u001b[0m\u001b[1;33m\u001b[0m\u001b[1;33m\u001b[0m\u001b[0m\n\u001b[0;32m      3\u001b[0m \u001b[1;32mif\u001b[0m \u001b[0ma\u001b[0m\u001b[1;33m>\u001b[0m\u001b[1;36m10\u001b[0m\u001b[1;33m:\u001b[0m\u001b[1;33m\u001b[0m\u001b[1;33m\u001b[0m\u001b[0m\n\u001b[1;32m----> 4\u001b[1;33m     \u001b[1;32mraise\u001b[0m \u001b[0mValueError\u001b[0m\u001b[1;33m(\u001b[0m\u001b[1;34m\"comdition might be\"\u001b[0m\u001b[1;33m)\u001b[0m\u001b[1;33m\u001b[0m\u001b[1;33m\u001b[0m\u001b[0m\n\u001b[0m\u001b[0;32m      5\u001b[0m \u001b[1;33m\u001b[0m\u001b[0m\n\u001b[0;32m      6\u001b[0m \u001b[1;32melse\u001b[0m\u001b[1;33m:\u001b[0m\u001b[1;33m\u001b[0m\u001b[1;33m\u001b[0m\u001b[0m\n",
      "\u001b[1;31mValueError\u001b[0m: comdition might be"
     ]
    }
   ],
   "source": [
    "# conditional statment (raising of error)\n",
    "a=15\n",
    "if a>10:\n",
    "    raise ValueError(\"comdition might be\")\n",
    "\n",
    "else:\n",
    "    print(\" \")"
   ]
  },
  {
   "cell_type": "code",
   "execution_count": 5,
   "id": "33faa4b2",
   "metadata": {},
   "outputs": [
    {
     "name": "stdout",
     "output_type": "stream",
     "text": [
      "1500\n",
      "1510\n",
      "1520\n",
      "1530\n",
      "1540\n",
      "1550\n",
      "1560\n",
      "1570\n",
      "1580\n",
      "1590\n",
      "1600\n",
      "1610\n",
      "1620\n",
      "1630\n",
      "1640\n",
      "1650\n",
      "1660\n",
      "1670\n",
      "1680\n",
      "1690\n",
      "1700\n",
      "1710\n",
      "1720\n",
      "1730\n",
      "1740\n",
      "1750\n",
      "1760\n",
      "1770\n",
      "1780\n",
      "1790\n",
      "1800\n",
      "1810\n",
      "1820\n",
      "1830\n",
      "1840\n",
      "1850\n",
      "1860\n",
      "1870\n",
      "1880\n",
      "1890\n",
      "1900\n",
      "1910\n",
      "1920\n",
      "1930\n",
      "1940\n",
      "1950\n",
      "1960\n",
      "1970\n",
      "1980\n",
      "1990\n",
      "2000\n",
      "2010\n",
      "2020\n",
      "2030\n",
      "2040\n",
      "2050\n",
      "2060\n",
      "2070\n",
      "2080\n",
      "2090\n",
      "2100\n",
      "2110\n",
      "2120\n",
      "2130\n",
      "2140\n",
      "2150\n",
      "2160\n",
      "2170\n",
      "2180\n",
      "2190\n",
      "2200\n",
      "2210\n",
      "2220\n",
      "2230\n",
      "2240\n",
      "2250\n",
      "2260\n",
      "2270\n",
      "2280\n",
      "2290\n",
      "2300\n",
      "2310\n",
      "2320\n",
      "2330\n",
      "2340\n",
      "2350\n",
      "2360\n",
      "2370\n",
      "2380\n",
      "2390\n",
      "2400\n",
      "2410\n",
      "2420\n",
      "2430\n",
      "2440\n",
      "2450\n",
      "2460\n",
      "2470\n",
      "2480\n",
      "2490\n",
      "2500\n",
      "2510\n",
      "2520\n",
      "2530\n",
      "2540\n",
      "2550\n",
      "2560\n",
      "2570\n",
      "2580\n",
      "2590\n",
      "2600\n",
      "2610\n",
      "2620\n",
      "2630\n",
      "2640\n",
      "2650\n",
      "2660\n",
      "2670\n",
      "2680\n",
      "2690\n",
      "2700\n",
      "2710\n",
      "2720\n",
      "2730\n",
      "2740\n",
      "2750\n",
      "2760\n",
      "2770\n",
      "2780\n",
      "2790\n",
      "2800\n",
      "2810\n",
      "2820\n",
      "2830\n",
      "2840\n",
      "2850\n",
      "2860\n",
      "2870\n",
      "2880\n",
      "2890\n",
      "2900\n",
      "2910\n",
      "2920\n",
      "2930\n",
      "2940\n",
      "2950\n",
      "2960\n",
      "2970\n",
      "2980\n",
      "2990\n"
     ]
    }
   ],
   "source": [
    "#Write a Python program to find those numbers which are divisible by 10 and multiples of 5, between 1500 and 2700 \n",
    "num=[]\n",
    "for num in range(1500,3000):\n",
    "    if  num%10==0 and num%5==0:\n",
    "        print(num)"
   ]
  },
  {
   "cell_type": "code",
   "execution_count": 13,
   "id": "e10c038c",
   "metadata": {},
   "outputs": [
    {
     "name": "stdout",
     "output_type": "stream",
     "text": [
      "80\n",
      "80,100\n",
      "80,100,120\n",
      "80,100,120,140\n",
      "80,100,120,140,160\n"
     ]
    }
   ],
   "source": [
    "x=[]\n",
    "for i in range(80,180):\n",
    "    if (i%10==0) and (i%4==0):\n",
    "        x.append(str(i))\n",
    "        print(\",\".join(x))"
   ]
  },
  {
   "cell_type": "code",
   "execution_count": 11,
   "id": "de1575ad",
   "metadata": {},
   "outputs": [
    {
     "name": "stdout",
     "output_type": "stream",
     "text": [
      "67.0\n"
     ]
    }
   ],
   "source": [
    "i=67\n",
    "print(float(i))\n"
   ]
  },
  {
   "cell_type": "code",
   "execution_count": 17,
   "id": "3076af9c",
   "metadata": {},
   "outputs": [
    {
     "name": "stdout",
     "output_type": "stream",
     "text": [
      "1001!1013!1025!1037!1049!1061!1073!1085!1097!1109!1121!1133!1145!1157!1169!1181!1193!1205!1217!1229!1241!1253!1265!1277!1289!1301!1313!1325!1337!1349!1361!1373!1385!1397!1409!1421!1433!1445!1457!1469!1481!1493!1505!1517!1529!1541!1553!1565!1577!1589!1601!1613!1625!1637!1649!1661!1673!1685!1697!1709!1721!1733!1745!1757!1769!1781!1793!1805!1817!1829!1841!1853!1865!1877!1889!1901!1913!1925!1937!1949!1961!1973!1985!1997\n"
     ]
    }
   ],
   "source": [
    "x=[]\n",
    "for i in range(1000,2000):\n",
    "    if i%12==5:\n",
    "         x.append(str(i))\n",
    "print(\"!\".join(x))"
   ]
  },
  {
   "cell_type": "code",
   "execution_count": 20,
   "id": "9935c267",
   "metadata": {},
   "outputs": [
    {
     "name": "stdout",
     "output_type": "stream",
     "text": [
      "Guess a number between 1 and 9: 5\n",
      "Try again.\n",
      "Guess a number between 1 and 9: 6\n",
      "Try again.\n",
      "Guess a number between 1 and 9: 8\n",
      "Try again.\n",
      "Sorry, you're out of guesses. The number was 9\n"
     ]
    }
   ],
   "source": [
    "import random\n",
    "\n",
    "# Generate a random number between 1 and 9\n",
    "number = random.randint(1, 9)\n",
    "\n",
    "for i in range(3):\n",
    "    # Prompt the user to enter a guess\n",
    "    guess = input(\"Guess a number between 1 and 9: \")\n",
    "\n",
    "    # Convert the user's input to an integer\n",
    "    guess = int(guess)\n",
    "\n",
    "    # Check if the guess is correct\n",
    "    if guess == number:\n",
    "        print(\"Well guessed!\")\n",
    "        break\n",
    "    else:\n",
    "        print(\"Try again.\")\n",
    "\n",
    "# If the user hasn't guessed correctly after 3 tries, print the answer\n",
    "else:\n",
    "    print(\"Sorry, you're out of guesses. The number was\", number)\n"
   ]
  },
  {
   "cell_type": "code",
   "execution_count": 3,
   "id": "f7573d8c",
   "metadata": {},
   "outputs": [
    {
     "name": "stdout",
     "output_type": "stream",
     "text": [
      "enter your guess9\n",
      "easy\n",
      "enter your guess8\n",
      "easy\n",
      "enter your guess0\n",
      "easy\n",
      "enter your guess2\n",
      "easy\n",
      "sorry 4\n"
     ]
    }
   ],
   "source": [
    "import random \n",
    "number= random.randint(1,12)\n",
    "for i in range(4):\n",
    "    guess=int(input(\"enter your guess\"))\n",
    "    if guess==number:\n",
    "        print(\"well gueesed\")\n",
    "        break\n",
    "    else:\n",
    "        print(\"easy\")\n",
    "else:\n",
    "    print(\"sorry\",number)"
   ]
  },
  {
   "cell_type": "code",
   "execution_count": null,
   "id": "0337338c",
   "metadata": {},
   "outputs": [],
   "source": []
  }
 ],
 "metadata": {
  "kernelspec": {
   "display_name": "Python 3",
   "language": "python",
   "name": "python3"
  },
  "language_info": {
   "codemirror_mode": {
    "name": "ipython",
    "version": 3
   },
   "file_extension": ".py",
   "mimetype": "text/x-python",
   "name": "python",
   "nbconvert_exporter": "python",
   "pygments_lexer": "ipython3",
   "version": "3.8.8"
  }
 },
 "nbformat": 4,
 "nbformat_minor": 5
}
