{
 "cells": [
  {
   "cell_type": "code",
   "execution_count": 3,
   "id": "72696e0f",
   "metadata": {},
   "outputs": [
    {
     "name": "stdout",
     "output_type": "stream",
     "text": [
      "the average is  7.5\n",
      "the average is  44.0\n"
     ]
    }
   ],
   "source": [
    "# function arguments \n",
    "# as we know that function are block of code whuch can we use at one or more time \n",
    "def average(a,b):\n",
    "    print(\"the average is \",(a+b)/2)\n",
    "average(7,8)# one way to find average\n",
    "# the other way is \n",
    "a=8\n",
    "b=80\n",
    "average(a,b)"
   ]
  },
  {
   "cell_type": "code",
   "execution_count": 9,
   "id": "0410c1e1",
   "metadata": {},
   "outputs": [
    {
     "name": "stdout",
     "output_type": "stream",
     "text": [
      "32\n",
      "the average is  5.5\n"
     ]
    }
   ],
   "source": [
    "# function of mean\n",
    "def mean (a,b):\n",
    "    mean=a+b*a+b-a\n",
    "    print(mean)\n",
    "a=7\n",
    "b=4\n",
    "mean(a,b)\n",
    "average(a,b)"
   ]
  },
  {
   "cell_type": "code",
   "execution_count": 6,
   "id": "9bfde3c8",
   "metadata": {},
   "outputs": [
    {
     "name": "stdout",
     "output_type": "stream",
     "text": [
      "17\n",
      "86\n",
      "16\n",
      "98\n",
      "hello javeria malik jm\n",
      "hello mj malik jm\n"
     ]
    }
   ],
   "source": [
    "# types of function argumnets\n",
    "#1.default argumnets\n",
    "# it is possible to give values while making the function like\n",
    "def add(a=8,b=9):\n",
    "    add=a+b\n",
    "    print(add)\n",
    "add()# the above is an example of default argument\n",
    "#just in case we want to remove the value of argumnet we add this like\n",
    "add(6,80)# it will ignore the 8,9 previous value\n",
    "# if we want to change only one value then\n",
    "add(7)# it change a value and b value use default value\n",
    "# if we want to change the value of b\n",
    "add(b=90)\n",
    "# default arguments in term of string\n",
    "def name(firstname=\"javeria\",middlename=\"malik\",lastname=\"jm\"):\n",
    "    print(\"hello\",firstname,middlename,lastname)\n",
    "name()\n",
    "name(\"mj\")\n",
    "    \n"
   ]
  },
  {
   "cell_type": "code",
   "execution_count": 16,
   "id": "9d339034",
   "metadata": {},
   "outputs": [
    {
     "name": "stdout",
     "output_type": "stream",
     "text": [
      "6.666666666666667\n",
      "32.333333333333336\n",
      "34.333333333333336\n"
     ]
    }
   ],
   "source": [
    "# require argument\n",
    "#which is compulsory to give\n",
    "def average(a,b,c=9):\n",
    "    pro=(a+b+c)/3\n",
    "    print(pro)\n",
    "    # here is a,b are require argument compulsory to give\n",
    "average(5,6)\n",
    "a=9\n",
    "b=8\n",
    "c=80\n",
    "average(a,b,c)\n",
    "average(a=4,b=90)"
   ]
  },
  {
   "cell_type": "code",
   "execution_count": 1,
   "id": "97cb7a6f",
   "metadata": {},
   "outputs": [
    {
     "name": "stdout",
     "output_type": "stream",
     "text": [
      "<class 'tuple'>\n",
      "average is 46.5\n"
     ]
    }
   ],
   "source": [
    "# variable argument\n",
    "# for variable argumnet\n",
    "def average(*numbers):\n",
    "    print(type(numbers))\n",
    "    sum=4\n",
    "    for i in numbers:\n",
    "        sum=sum+i\n",
    "    print(\"average is\",sum/len(numbers))\n",
    "average(80,9)"
   ]
  },
  {
   "cell_type": "code",
   "execution_count": 8,
   "id": "af54ef6a",
   "metadata": {},
   "outputs": [
    {
     "name": "stdout",
     "output_type": "stream",
     "text": [
      "8\n",
      "9\n",
      "11\n",
      "14\n",
      "18\n",
      "23\n",
      "29\n",
      "36\n",
      "44\n",
      "53\n",
      "63\n",
      "74\n",
      "86\n",
      "99\n",
      "113\n",
      "128\n",
      "144\n",
      "161\n",
      "179\n",
      "198\n",
      "218\n"
     ]
    }
   ],
   "source": [
    "sum=8\n",
    "for i in range(21):\n",
    "    sum=sum+i\n",
    "    print(sum)"
   ]
  },
  {
   "cell_type": "code",
   "execution_count": 13,
   "id": "0c35678a",
   "metadata": {},
   "outputs": [
    {
     "name": "stdout",
     "output_type": "stream",
     "text": [
      "<class 'tuple'>\n",
      "8.6\n"
     ]
    }
   ],
   "source": [
    "def average(*numbers):\n",
    "    print(type(numbers))\n",
    "    sum=4\n",
    "    for i in numbers:\n",
    "        sum=sum+i\n",
    "    return sum/len(numbers)\n",
    "c=average(8,7,9,8,7)\n",
    "print(c)"
   ]
  },
  {
   "cell_type": "code",
   "execution_count": 13,
   "id": "98f55f0b",
   "metadata": {},
   "outputs": [
    {
     "name": "stdout",
     "output_type": "stream",
     "text": [
      "11\n",
      "[8, 8, 9, 0, 6, 5, 'jh']\n",
      "[89.9, 78, 8, 8, 9, 0, 6, 5, 'jh']\n",
      "[]\n",
      "[78, 8, 8, 9, 0, 6, 5]\n"
     ]
    }
   ],
   "source": [
    "# list is a dat type enclose in curly brackers\n",
    "name=[\"jiya\",\"malik\",89.9, 78,8,8,9,0,6,5,\"jh\"]\n",
    "print(len(name))\n",
    "print(name[4:])\n",
    "print(name[2::1])# here firt is starting number second one is ending number while last one is jump \n",
    "print(name[2:-9])\n",
    "print(name[3:-1])"
   ]
  },
  {
   "cell_type": "code",
   "execution_count": 19,
   "id": "aceb9101",
   "metadata": {},
   "outputs": [
    {
     "name": "stdout",
     "output_type": "stream",
     "text": [
      "[0, 1, 2, 3, 4]\n",
      "[0, 5, 10, 15, 20]\n",
      "[0, 2, 4, 6, 8, 10]\n",
      "[1, 3, 5, 7, 9, 11]\n"
     ]
    }
   ],
   "source": [
    "#list comprehension# on the fly list jko generate krna \n",
    "lst=[i for i in range(5)]\n",
    "print(lst)\n",
    "lst=[i*5 for i in range(5)]\n",
    "print(lst)\n",
    "lst=[i for i in range(12)if i%2==0]# onle print even\n",
    "print(lst)\n",
    "lst=[i for i in range(12)if i%2!=0]# onle print odd\n",
    "print(lst)\n",
    "\n"
   ]
  },
  {
   "cell_type": "code",
   "execution_count": 27,
   "id": "ec28188b",
   "metadata": {},
   "outputs": [
    {
     "name": "stdout",
     "output_type": "stream",
     "text": [
      "[4, 6, 9, 0, 7]\n",
      "[0, 4, 6, 7, 9]\n",
      "[9, 7, 6, 4, 0]\n",
      "[5, 6, 7, 8, 9, 9]\n",
      "3\n",
      "[5, 6, 7, 8, 9, 9]\n",
      "2\n",
      "[5, 6, 7, 8, 9, 9]\n",
      "[0, 6, 7, 8, 9, 9]\n",
      "[5, 6, 7, 11, 8, 9, 9]\n",
      "[8, 9, 0, 7, 5, 4]\n",
      "[8, 9, 0, 7, 5, 4, 5, 6, 'jiya']\n",
      "[6, 89, 7, 0, 3, 7, 9, 0, 7]\n",
      "[6, 89, 7, 3, 7, 9, 0, 7]\n"
     ]
    }
   ],
   "source": [
    "# methods in list \n",
    "# appwend method: kisi bhi list ka last pa digit ko add krna kaliya is timal hota \n",
    "l=[4,6,9,0]\n",
    "l.append(7)\n",
    "print(l)\n",
    "#print(l.append(7))# checked \n",
    "#sort method:assending order ma krta h list ko arrange\n",
    "l.sort()\n",
    "print(l)\n",
    "l.sort(reverse=True)# descending ma arrangr krdai ga\n",
    "print(l)\n",
    "# reverse method is use to reverse the lisdt\n",
    "l=[9,9,8,7,6,5]\n",
    "l.reverse()\n",
    "print(l)\n",
    "# index method: use to find the index of list\n",
    "print(l.index(8))# ya btadai ga list ma index khaaa pra h \n",
    "print(l)\n",
    "# count method use to find the how many times a number repeat\n",
    "print(l.count(9))\n",
    "# copy method:list ki new copy bnadai ga\n",
    "m=l.copy()\n",
    "m[0]=0\n",
    "print(l)\n",
    "print(m)\n",
    "#insert method:jb hum kisi specific inxdex orr koi number insert krna chahai to ya yuse krtai\n",
    "l.insert(3,11)# ya 3 index prr 11 ko insert krdai ga\n",
    "print(l)\n",
    "#extend method:1 list ma dosri list ko add krka extend krdena\n",
    "l=[8,9,0,7,5,4]\n",
    "print(l)\n",
    "n=[5,6,\"jiya\"]\n",
    "l.extend(n)\n",
    "print(l)\n",
    "a=[6,89,7,0,3]\n",
    "b=[7,9,0,7]\n",
    "k=(a+b)\n",
    "print(k)\n",
    "# pop method use to remove any digit at given index\n",
    "k.pop(3)\n",
    "print(k)\n"
   ]
  },
  {
   "cell_type": "code",
   "execution_count": 44,
   "id": "609eeb34",
   "metadata": {},
   "outputs": [
    {
     "name": "stdout",
     "output_type": "stream",
     "text": [
      "[0, 1, 2, 3, 4, 5, 6, 7, 8, 9, 10, 11]\n",
      "[0, 1, 2, 3, 4, 5, 6, 7, 8, 9, 10, 11, 67]\n"
     ]
    }
   ],
   "source": [
    "m=[i for i in range(12)]\n",
    "print(m)\n",
    "n=[67,78]\n",
    "m.extend(n)\n",
    "print(m)"
   ]
  },
  {
   "cell_type": "code",
   "execution_count": 20,
   "id": "177a7c78",
   "metadata": {},
   "outputs": [
    {
     "name": "stdout",
     "output_type": "stream",
     "text": [
      "(9, 7, 0, 5, 'jiya')\n",
      "(5,)\n",
      "<class 'tuple'>\n",
      "[9, 8, 0, 5, 'jiya']\n",
      "5\n",
      "[9, 8]\n",
      "5\n",
      "no\n",
      "yes\n",
      "[9, 8, 0, 5]\n"
     ]
    }
   ],
   "source": [
    "#tuple: is equally use it is un changeable\n",
    "tuple=(9,7,0,5,\"jiya\")\n",
    "print(tuple)\n",
    "# agrr ek digit ko bracket ma enclose krna ho to digit ka baad comm algaka chohrna compulssory hota ha \n",
    "tup=(5,)# comma lgan compulsory ha otherwise wo usa class integer consider krlai ga \n",
    "print(tup)\n",
    "print(type(tup))\n",
    "# agrr hum tupple ki value jko change krna chahi to ya possible nhi or error daiga\n",
    "#tuple[1]=8\n",
    "#print(tuple)\n",
    "tuple=[9,7,0,5,\"jiya\"]\n",
    "tuple[1]=8\n",
    "print(tuple)# list ma change krdai ga lkin tuple un changeable hota ha error daiga \n",
    "# give index number to find indexing of integer\n",
    "print(tuple[3])\n",
    "print(tuple[0:-3])\n",
    "print(len(tuple))\n",
    "# conditio use in tuple\n",
    "if 7 in tuple:\n",
    "    print(\"yes\")\n",
    "else:\n",
    "    print(\"no\")\n",
    "if \"jiya\" in tuple:\n",
    "    print(\"yes\")\n",
    "else:\n",
    "    print(\"no\")\n",
    "#slicing\n",
    "tup2=tuple[0:4:1]\n",
    "print(tup2)\n",
    "\n"
   ]
  },
  {
   "cell_type": "code",
   "execution_count": 1,
   "id": "82db9ded",
   "metadata": {},
   "outputs": [
    {
     "name": "stdout",
     "output_type": "stream",
     "text": [
      "['pakistan', 'india', 'china', 'finland', 'australia']\n",
      "['russia', 'australia', 'finland', 'china', 'india', 'pakistan']\n",
      "['russia', 'australia', 'finland', 'india', 'pakistan']\n",
      "('russia', 'australia', 'finland', 'india', 'pakistan')\n",
      "2\n",
      "6\n",
      "6\n"
     ]
    }
   ],
   "source": [
    "# method in tuple\n",
    "countries=(\"pakistan\",\"india\",\"china\",\"finland\",\"australia\")\n",
    "countries2=list(countries)\n",
    "print(countries2)\n",
    "countries2.append(\"russia\")#add\n",
    "countries2.reverse()#reverse\n",
    "print(countries2)\n",
    "countries2.pop(3)#remove\n",
    "print(countries2)\n",
    "countriesi=tuple(countries2)\n",
    "print(countriesi)\n",
    "tup=(0,1,4,6,7,8,45,78,45,6,8,9,0,5)\n",
    "# count method determine the occurnace of specific number in tuple \n",
    "res=tup.count(3)\n",
    "res=tup.count(45)# count method \n",
    "print(res)\n",
    "# index method determine the index of specific number\n",
    "res2=tup.index(45)\n",
    "print(res2)\n",
    "# agrr hum specific index pr specific area ma btana chhaai to hum uski slicing krai ga \n",
    "res4=tup.index(45,1,7)# first number jiska ki index find krni 2or 3 number range btai ga ismai krni h \n",
    "print(res4)\n",
    "# value error: agrr value tuple ma na jo to value error raise krai ga \n"
   ]
  },
  {
   "cell_type": "code",
   "execution_count": 9,
   "id": "bbdc3d04",
   "metadata": {},
   "outputs": [
    {
     "name": "stdout",
     "output_type": "stream",
     "text": [
      "['pakistan', 'india', 'china', 'finland', 'australia']\n"
     ]
    }
   ],
   "source": [
    "countries=(\"pakistan\",\"india\",\"china\",\"finland\",\"australia\")\n",
    "countries2=list(countries)\n",
    "print(countries2)"
   ]
  },
  {
   "cell_type": "code",
   "execution_count": 12,
   "id": "a4833518",
   "metadata": {},
   "outputs": [
    {
     "name": "stdout",
     "output_type": "stream",
     "text": [
      "my name is jiya and i am from pakistan\n",
      "my name is jiyaand my country name is pakistan\n",
      "the price of car is49.10dollars!\n",
      "156\n",
      "my name is {name}and my country name is {country}\n"
     ]
    }
   ],
   "source": [
    "# f string: is an string formatting method\n",
    "letter=\"my name is {0} and i am from {1}\"\n",
    "name=\"jiya\"\n",
    "country=\"pakistan\"\n",
    "print(letter.format(name,country))# string method\n",
    "print(f\"my name is {name }and my country name is {country}\")# write the above in short form in f string\n",
    "price=49.09875\n",
    "txt=f\"the price of car is{price:.2f}dollars!\"# here .2f only 2 float is allowed\n",
    "#print(txt.format(price=49.05643))\n",
    "print(txt)\n",
    "print(f\"{2*78}\")\n",
    "# agrr hum chahtai h ka curly bracket ki value as it is hi print ho to {{}}bracket use krai\n",
    "print(f\"my name is {{name}}and my country name is {{country}}\")"
   ]
  },
  {
   "cell_type": "code",
   "execution_count": null,
   "id": "89e93916",
   "metadata": {},
   "outputs": [],
   "source": []
  }
 ],
 "metadata": {
  "kernelspec": {
   "display_name": "Python 3",
   "language": "python",
   "name": "python3"
  },
  "language_info": {
   "codemirror_mode": {
    "name": "ipython",
    "version": 3
   },
   "file_extension": ".py",
   "mimetype": "text/x-python",
   "name": "python",
   "nbconvert_exporter": "python",
   "pygments_lexer": "ipython3",
   "version": "3.8.8"
  }
 },
 "nbformat": 4,
 "nbformat_minor": 5
}
