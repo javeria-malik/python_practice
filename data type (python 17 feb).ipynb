{
 "cells": [
  {
   "cell_type": "code",
   "execution_count": 7,
   "id": "91d3a4aa",
   "metadata": {},
   "outputs": [
    {
     "name": "stdout",
     "output_type": "stream",
     "text": [
      "heart broke so sad\n",
      "<class 'str'>\n"
     ]
    }
   ],
   "source": [
    "# text string:string\n",
    "st=\"heart broke so sad\"\n",
    "print(st)\n",
    "print(type(st))"
   ]
  },
  {
   "cell_type": "code",
   "execution_count": 8,
   "id": "8fbb5c3c",
   "metadata": {},
   "outputs": [
    {
     "name": "stdout",
     "output_type": "stream",
     "text": [
      "654\n",
      "<class 'str'>\n"
     ]
    }
   ],
   "source": [
    "st2=\"654\"\n",
    "print(st2)\n",
    "print(type(st2))"
   ]
  },
  {
   "cell_type": "code",
   "execution_count": 9,
   "id": "9e5556df",
   "metadata": {},
   "outputs": [
    {
     "name": "stdout",
     "output_type": "stream",
     "text": [
      "hellojiya\n",
      "<class 'str'>\n"
     ]
    }
   ],
   "source": [
    "st1=\"hello\"\n",
    "st2=\"jiya\"\n",
    "print(st1+st2)\n",
    "print(type(st1+st2))\n"
   ]
  },
  {
   "cell_type": "code",
   "execution_count": 14,
   "id": "0afa11a4",
   "metadata": {},
   "outputs": [
    {
     "name": "stdout",
     "output_type": "stream",
     "text": [
      "i am a emotional person but i ll be strong person\n",
      "('i am a emotional person', 'but i ll be strong person')\n",
      "<class 'tuple'>\n"
     ]
    }
   ],
   "source": [
    "sentence=\"i am a emotional person\"\n",
    "sentence1=\"but i ll be strong person\"\n",
    "print(sentence,sentence1)\n",
    "sentence3=(sentence,sentence1)\n",
    "print(sentence3)\n",
    "print(type(sentence3))# this behave as tuple\n",
    "#print(type(sentence,sentence1))"
   ]
  },
  {
   "cell_type": "code",
   "execution_count": 2,
   "id": "da61c762",
   "metadata": {},
   "outputs": [
    {
     "name": "stdout",
     "output_type": "stream",
     "text": [
      "789\n",
      "<class 'int'>\n"
     ]
    }
   ],
   "source": [
    "# integer type \n",
    "m=789\n",
    "print(m)\n",
    "print(type(m))"
   ]
  },
  {
   "cell_type": "code",
   "execution_count": 3,
   "id": "42cebe24",
   "metadata": {},
   "outputs": [
    {
     "name": "stdout",
     "output_type": "stream",
     "text": [
      "6789\n",
      "<class 'str'>\n"
     ]
    }
   ],
   "source": [
    "m=\"67\"\n",
    "n=\"89\"\n",
    "print(m+n)\n",
    "print(type(m+n))"
   ]
  },
  {
   "cell_type": "code",
   "execution_count": 7,
   "id": "cc15f174",
   "metadata": {},
   "outputs": [
    {
     "name": "stdout",
     "output_type": "stream",
     "text": [
      "8 89\n",
      "(8, 89)\n",
      "<class 'tuple'>\n"
     ]
    }
   ],
   "source": [
    "m=8\n",
    "n=89\n",
    "print(m,n)\n",
    "z=m,n\n",
    "print(z)\n",
    "print(type(z))"
   ]
  },
  {
   "cell_type": "code",
   "execution_count": 8,
   "id": "2e3d756d",
   "metadata": {},
   "outputs": [
    {
     "name": "stdout",
     "output_type": "stream",
     "text": [
      "9.09\n",
      "<class 'float'>\n"
     ]
    }
   ],
   "source": [
    "m=9.09\n",
    "print(m)\n",
    "print(type(m))"
   ]
  },
  {
   "cell_type": "code",
   "execution_count": 12,
   "id": "32c714ca",
   "metadata": {},
   "outputs": [
    {
     "name": "stdout",
     "output_type": "stream",
     "text": [
      "90.09\n",
      "<class 'str'>\n"
     ]
    }
   ],
   "source": [
    "m=\"90.09\"\n",
    "n=89\n",
    "print(m)\n",
    "print(type(m))"
   ]
  },
  {
   "cell_type": "code",
   "execution_count": 6,
   "id": "52473ad6",
   "metadata": {},
   "outputs": [
    {
     "name": "stdout",
     "output_type": "stream",
     "text": [
      "(5+67j)\n",
      "<class 'complex'>\n"
     ]
    }
   ],
   "source": [
    "complex=5+67j\n",
    "print(complex)\n",
    "print(type(complex))"
   ]
  },
  {
   "cell_type": "code",
   "execution_count": 7,
   "id": "528a2ce6",
   "metadata": {},
   "outputs": [
    {
     "name": "stdout",
     "output_type": "stream",
     "text": [
      "['my', 'name', 'is', 'javeria', 'i', 'am', 'a', 'good', 'girl']\n"
     ]
    }
   ],
   "source": [
    "# sequence data type\n",
    "#list\n",
    "string=\"my name is javeria i am a good girl\"\n",
    "print(string.split())# string to list"
   ]
  },
  {
   "cell_type": "code",
   "execution_count": 8,
   "id": "b1c63af9",
   "metadata": {},
   "outputs": [
    {
     "name": "stdout",
     "output_type": "stream",
     "text": [
      "['my', 'love', 89]\n"
     ]
    }
   ],
   "source": [
    "# list is unordered data type and can be cahnged \n",
    "list=[\"my\",\"love\",89]\n",
    "print(list)"
   ]
  },
  {
   "cell_type": "code",
   "execution_count": 12,
   "id": "9dabd606",
   "metadata": {},
   "outputs": [
    {
     "name": "stdout",
     "output_type": "stream",
     "text": [
      "['hello world']\n",
      "['my', 'love', 89, 'hello world']\n",
      "<class 'list'>\n"
     ]
    }
   ],
   "source": [
    "list2=[\"hello world\"]\n",
    "print(list2)\n",
    "print(list+list2)\n",
    "print(type(list2))"
   ]
  },
  {
   "cell_type": "code",
   "execution_count": 13,
   "id": "0e795636",
   "metadata": {},
   "outputs": [
    {
     "name": "stdout",
     "output_type": "stream",
     "text": [
      "(['my', 'love', 89], ['hello world'])\n",
      "['my', 'love', 89] ['hello world']\n",
      "<class 'tuple'>\n"
     ]
    }
   ],
   "source": [
    "l=list,list2\n",
    "print(l)\n",
    "print(list,list2)\n",
    "print(type(l))"
   ]
  },
  {
   "cell_type": "code",
   "execution_count": 17,
   "id": "04bbdc3b",
   "metadata": {},
   "outputs": [
    {
     "name": "stdout",
     "output_type": "stream",
     "text": [
      "['hello', '78', [67.09]]\n",
      "89\n"
     ]
    }
   ],
   "source": [
    "listt=[\"hello\",\"78\",[67.09]]\n",
    "print(listt)\n",
    "print(list3)"
   ]
  },
  {
   "cell_type": "code",
   "execution_count": 18,
   "id": "c40ed8d1",
   "metadata": {},
   "outputs": [
    {
     "name": "stdout",
     "output_type": "stream",
     "text": [
      "('jiya', 'malik', 'hello world!', 9, 8)\n"
     ]
    }
   ],
   "source": [
    "tuple=(\"jiya\",\"malik\",\"hello world!\",9,8)\n",
    "print(tuple)"
   ]
  },
  {
   "cell_type": "code",
   "execution_count": 24,
   "id": "3cfc36ef",
   "metadata": {},
   "outputs": [
    {
     "ename": "TypeError",
     "evalue": "'list' object is not callable",
     "output_type": "error",
     "traceback": [
      "\u001b[1;31m---------------------------------------------------------------------------\u001b[0m",
      "\u001b[1;31mTypeError\u001b[0m                                 Traceback (most recent call last)",
      "\u001b[1;32m<ipython-input-24-97c7d83e117e>\u001b[0m in \u001b[0;36m<module>\u001b[1;34m\u001b[0m\n\u001b[0;32m      1\u001b[0m \u001b[0mcountries\u001b[0m\u001b[1;33m=\u001b[0m\u001b[1;33m(\u001b[0m\u001b[1;34m\"pakistan\"\u001b[0m\u001b[1;33m,\u001b[0m\u001b[1;34m\"india\"\u001b[0m\u001b[1;33m,\u001b[0m\u001b[1;34m\"china\"\u001b[0m\u001b[1;33m,\u001b[0m\u001b[1;34m\"finland\"\u001b[0m\u001b[1;33m,\u001b[0m\u001b[1;34m\"australia\"\u001b[0m\u001b[1;33m)\u001b[0m\u001b[1;33m\u001b[0m\u001b[1;33m\u001b[0m\u001b[0m\n\u001b[1;32m----> 2\u001b[1;33m \u001b[0mcountries2\u001b[0m\u001b[1;33m=\u001b[0m\u001b[0mlist\u001b[0m\u001b[1;33m(\u001b[0m\u001b[0mcountries\u001b[0m\u001b[1;33m)\u001b[0m\u001b[1;33m\u001b[0m\u001b[1;33m\u001b[0m\u001b[0m\n\u001b[0m\u001b[0;32m      3\u001b[0m \u001b[0mprint\u001b[0m\u001b[1;33m(\u001b[0m\u001b[0mcountries2\u001b[0m\u001b[1;33m)\u001b[0m\u001b[1;33m\u001b[0m\u001b[1;33m\u001b[0m\u001b[0m\n",
      "\u001b[1;31mTypeError\u001b[0m: 'list' object is not callable"
     ]
    }
   ],
   "source": [
    "countries=(\"pakistan\",\"india\",\"china\",\"finland\",\"australia\")\n",
    "countries2=list(countries)\n",
    "print(countries2)"
   ]
  },
  {
   "cell_type": "code",
   "execution_count": 22,
   "id": "c51b8ab1",
   "metadata": {},
   "outputs": [
    {
     "name": "stdout",
     "output_type": "stream",
     "text": [
      "8\n"
     ]
    }
   ],
   "source": [
    "a=8\n",
    "print(a)"
   ]
  },
  {
   "cell_type": "code",
   "execution_count": 26,
   "id": "991acd6f",
   "metadata": {},
   "outputs": [
    {
     "ename": "TypeError",
     "evalue": "'list' object is not callable",
     "output_type": "error",
     "traceback": [
      "\u001b[1;31m---------------------------------------------------------------------------\u001b[0m",
      "\u001b[1;31mTypeError\u001b[0m                                 Traceback (most recent call last)",
      "\u001b[1;32m<ipython-input-26-97c7d83e117e>\u001b[0m in \u001b[0;36m<module>\u001b[1;34m\u001b[0m\n\u001b[0;32m      1\u001b[0m \u001b[0mcountries\u001b[0m\u001b[1;33m=\u001b[0m\u001b[1;33m(\u001b[0m\u001b[1;34m\"pakistan\"\u001b[0m\u001b[1;33m,\u001b[0m\u001b[1;34m\"india\"\u001b[0m\u001b[1;33m,\u001b[0m\u001b[1;34m\"china\"\u001b[0m\u001b[1;33m,\u001b[0m\u001b[1;34m\"finland\"\u001b[0m\u001b[1;33m,\u001b[0m\u001b[1;34m\"australia\"\u001b[0m\u001b[1;33m)\u001b[0m\u001b[1;33m\u001b[0m\u001b[1;33m\u001b[0m\u001b[0m\n\u001b[1;32m----> 2\u001b[1;33m \u001b[0mcountries2\u001b[0m\u001b[1;33m=\u001b[0m\u001b[0mlist\u001b[0m\u001b[1;33m(\u001b[0m\u001b[0mcountries\u001b[0m\u001b[1;33m)\u001b[0m\u001b[1;33m\u001b[0m\u001b[1;33m\u001b[0m\u001b[0m\n\u001b[0m\u001b[0;32m      3\u001b[0m \u001b[0mprint\u001b[0m\u001b[1;33m(\u001b[0m\u001b[0mcountries2\u001b[0m\u001b[1;33m)\u001b[0m\u001b[1;33m\u001b[0m\u001b[1;33m\u001b[0m\u001b[0m\n",
      "\u001b[1;31mTypeError\u001b[0m: 'list' object is not callable"
     ]
    }
   ],
   "source": [
    "countries=(\"pakistan\",\"india\",\"china\",\"finland\",\"australia\")\n",
    "countries2=list(countries)\n",
    "print(countries2)"
   ]
  },
  {
   "cell_type": "code",
   "execution_count": 31,
   "id": "91000bfb",
   "metadata": {},
   "outputs": [
    {
     "name": "stdout",
     "output_type": "stream",
     "text": [
      "(59, 87, 0, 'jiya')\n"
     ]
    },
    {
     "ename": "TypeError",
     "evalue": "'list' object is not callable",
     "output_type": "error",
     "traceback": [
      "\u001b[1;31m---------------------------------------------------------------------------\u001b[0m",
      "\u001b[1;31mTypeError\u001b[0m                                 Traceback (most recent call last)",
      "\u001b[1;32m<ipython-input-31-31f427eaf0a9>\u001b[0m in \u001b[0;36m<module>\u001b[1;34m\u001b[0m\n\u001b[0;32m      1\u001b[0m \u001b[0msum\u001b[0m\u001b[1;33m=\u001b[0m\u001b[1;33m(\u001b[0m\u001b[1;36m59\u001b[0m\u001b[1;33m,\u001b[0m\u001b[1;36m87\u001b[0m\u001b[1;33m,\u001b[0m\u001b[1;36m0\u001b[0m\u001b[1;33m,\u001b[0m\u001b[1;34m\"jiya\"\u001b[0m\u001b[1;33m)\u001b[0m\u001b[1;33m\u001b[0m\u001b[1;33m\u001b[0m\u001b[0m\n\u001b[0;32m      2\u001b[0m \u001b[0mprint\u001b[0m\u001b[1;33m(\u001b[0m\u001b[0msum\u001b[0m\u001b[1;33m)\u001b[0m\u001b[1;33m\u001b[0m\u001b[1;33m\u001b[0m\u001b[0m\n\u001b[1;32m----> 3\u001b[1;33m \u001b[0msum2\u001b[0m\u001b[1;33m=\u001b[0m\u001b[0mlist\u001b[0m\u001b[1;33m(\u001b[0m\u001b[0msum\u001b[0m\u001b[1;33m)\u001b[0m\u001b[1;33m\u001b[0m\u001b[1;33m\u001b[0m\u001b[0m\n\u001b[0m\u001b[0;32m      4\u001b[0m \u001b[0mprint\u001b[0m\u001b[1;33m(\u001b[0m\u001b[0msum2\u001b[0m\u001b[1;33m)\u001b[0m\u001b[1;33m\u001b[0m\u001b[1;33m\u001b[0m\u001b[0m\n",
      "\u001b[1;31mTypeError\u001b[0m: 'list' object is not callable"
     ]
    }
   ],
   "source": [
    "sum=(59,87,0,\"jiya\")\n",
    "print(sum)\n",
    "sum2=list(sum)\n",
    "print(sum2)"
   ]
  },
  {
   "cell_type": "code",
   "execution_count": 32,
   "id": "7f5762d5",
   "metadata": {},
   "outputs": [
    {
     "name": "stdout",
     "output_type": "stream",
     "text": [
      "range(0, 9)\n"
     ]
    }
   ],
   "source": [
    "r=range(9)\n",
    "print(r)"
   ]
  },
  {
   "cell_type": "code",
   "execution_count": 35,
   "id": "eee5fd7f",
   "metadata": {},
   "outputs": [
    {
     "name": "stdout",
     "output_type": "stream",
     "text": [
      "(5,)\n",
      "<class 'tuple'>\n",
      "<class 'int'>\n"
     ]
    }
   ],
   "source": [
    "tuple=(5,)\n",
    "print(tuple)\n",
    "print(type(tuple))\n",
    "tuple=(5)\n",
    "print(type(tuple))"
   ]
  },
  {
   "cell_type": "code",
   "execution_count": 36,
   "id": "d6b13085",
   "metadata": {},
   "outputs": [
    {
     "name": "stdout",
     "output_type": "stream",
     "text": [
      "b'javeria'\n"
     ]
    }
   ],
   "source": [
    "# binary type\n",
    "x=b\"javeria\"\n",
    "print(x)"
   ]
  },
  {
   "cell_type": "code",
   "execution_count": 37,
   "id": "9531b648",
   "metadata": {},
   "outputs": [
    {
     "name": "stdout",
     "output_type": "stream",
     "text": [
      "bytearray(b'\\x00\\x00\\x00\\x00\\x00')\n"
     ]
    }
   ],
   "source": [
    "x=bytearray(5)\n",
    "print(x)"
   ]
  },
  {
   "cell_type": "code",
   "execution_count": 39,
   "id": "4a8f91ab",
   "metadata": {},
   "outputs": [
    {
     "name": "stdout",
     "output_type": "stream",
     "text": [
      "<memory at 0x0000027FFB632D00>\n"
     ]
    }
   ],
   "source": [
    "x=memoryview(bytes(5))\n",
    "print(x)"
   ]
  },
  {
   "cell_type": "code",
   "execution_count": 2,
   "id": "4eca9675",
   "metadata": {},
   "outputs": [
    {
     "name": "stdout",
     "output_type": "stream",
     "text": [
      "True\n"
     ]
    }
   ],
   "source": [
    "# boolean \n",
    "a=bool(8)#every n umber except none represnt true\n",
    "print(a)"
   ]
  },
  {
   "cell_type": "code",
   "execution_count": 3,
   "id": "796e8d13",
   "metadata": {},
   "outputs": [
    {
     "name": "stdout",
     "output_type": "stream",
     "text": [
      "False\n"
     ]
    }
   ],
   "source": [
    "print(bool(0))"
   ]
  },
  {
   "cell_type": "code",
   "execution_count": 4,
   "id": "b39586f2",
   "metadata": {},
   "outputs": [
    {
     "name": "stdout",
     "output_type": "stream",
     "text": [
      "True\n"
     ]
    }
   ],
   "source": [
    "print(bool(\"no\"))"
   ]
  },
  {
   "cell_type": "code",
   "execution_count": 5,
   "id": "53311ffa",
   "metadata": {},
   "outputs": [
    {
     "name": "stdout",
     "output_type": "stream",
     "text": [
      "False\n"
     ]
    }
   ],
   "source": [
    "print(bool([]))"
   ]
  },
  {
   "cell_type": "code",
   "execution_count": 6,
   "id": "74c91585",
   "metadata": {},
   "outputs": [
    {
     "name": "stdout",
     "output_type": "stream",
     "text": [
      "False\n"
     ]
    }
   ],
   "source": [
    "print(bool())"
   ]
  },
  {
   "cell_type": "code",
   "execution_count": 7,
   "id": "bab184d3",
   "metadata": {},
   "outputs": [
    {
     "name": "stdout",
     "output_type": "stream",
     "text": [
      "False\n"
     ]
    }
   ],
   "source": [
    "print(bool(\"\"))"
   ]
  },
  {
   "cell_type": "code",
   "execution_count": null,
   "id": "0054f394",
   "metadata": {},
   "outputs": [],
   "source": [
    "# every thimg represnt empty reptrext false statmenmt of bool"
   ]
  }
 ],
 "metadata": {
  "kernelspec": {
   "display_name": "Python 3",
   "language": "python",
   "name": "python3"
  },
  "language_info": {
   "codemirror_mode": {
    "name": "ipython",
    "version": 3
   },
   "file_extension": ".py",
   "mimetype": "text/x-python",
   "name": "python",
   "nbconvert_exporter": "python",
   "pygments_lexer": "ipython3",
   "version": "3.8.8"
  }
 },
 "nbformat": 4,
 "nbformat_minor": 5
}
