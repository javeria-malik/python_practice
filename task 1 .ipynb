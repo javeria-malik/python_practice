{
 "cells": [
  {
   "cell_type": "code",
   "execution_count": 1,
   "id": "1740d72d",
   "metadata": {},
   "outputs": [
    {
     "data": {
      "text/plain": [
       "11"
      ]
     },
     "execution_count": 1,
     "metadata": {},
     "output_type": "execute_result"
    }
   ],
   "source": [
    "# Write a function that takes two arguments, a and b, and returns their sum.\n",
    "def sum(a,b):\n",
    "    sum=a+b\n",
    "    return sum\n",
    "sum(5,6)"
   ]
  },
  {
   "cell_type": "code",
   "execution_count": 1,
   "id": "a05c1fb4",
   "metadata": {},
   "outputs": [
    {
     "data": {
      "text/plain": [
       "31"
      ]
     },
     "execution_count": 1,
     "metadata": {},
     "output_type": "execute_result"
    }
   ],
   "source": [
    "#Write a function that takes a list of numbers and returns the sum of all the numbers in the list.\n",
    "def sum_list(numbers):\n",
    "    return sum(numbers)\n",
    "sum_list((1,8,9,6,3,2,2))"
   ]
  },
  {
   "cell_type": "code",
   "execution_count": 2,
   "id": "4aa86d0f",
   "metadata": {},
   "outputs": [
    {
     "data": {
      "text/plain": [
       "27"
      ]
     },
     "execution_count": 2,
     "metadata": {},
     "output_type": "execute_result"
    }
   ],
   "source": [
    "def sum_list(numbers):\n",
    "    return sum(numbers)\n",
    "sum_list((9,0,7,6,5))"
   ]
  },
  {
   "cell_type": "code",
   "execution_count": 3,
   "id": "812f6767",
   "metadata": {},
   "outputs": [
    {
     "data": {
      "text/plain": [
       "29"
      ]
     },
     "execution_count": 3,
     "metadata": {},
     "output_type": "execute_result"
    }
   ],
   "source": [
    "#Write a function that takes a string and returns the length of the string.\n",
    "def length(str):\n",
    "    return len(str)\n",
    "length(\"hello jiya weather seems nice\")"
   ]
  },
  {
   "cell_type": "code",
   "execution_count": 4,
   "id": "9a9c72f5",
   "metadata": {},
   "outputs": [
    {
     "data": {
      "text/plain": [
       "5"
      ]
     },
     "execution_count": 4,
     "metadata": {},
     "output_type": "execute_result"
    }
   ],
   "source": [
    "#Write a function that takes a list of strings and returns the length of the longest string in the list\n",
    "def longest_str(str):\n",
    "    max_len=0\n",
    "    for x in str:\n",
    "        if len(x)>max_len:\n",
    "            max_len=len(x)\n",
    "    return max_len\n",
    "longest_str([\"hello\",\"nice\",\"to\",\"meet\",\"talk\",\"too\",\"you\"])\n",
    "            "
   ]
  },
  {
   "cell_type": "code",
   "execution_count": 7,
   "id": "71dbc1c5",
   "metadata": {},
   "outputs": [
    {
     "name": "stdout",
     "output_type": "stream",
     "text": [
      "2 4 6 8 20 10 2 4 6 78 "
     ]
    }
   ],
   "source": [
    "#Write a function that takes a list of numbers and returns a new list containing only the even numbers \n",
    "#from the original list\n",
    "def even_list(numbers):\n",
    "    even=[]\n",
    "    for x in numbers:\n",
    "        if x%2==0:\n",
    "            print(x,end=\" \")\n",
    "even_list([2,3,4,5,6,7,7,8,9,20,10,2,4,5,6,78])"
   ]
  },
  {
   "cell_type": "code",
   "execution_count": 11,
   "id": "dce384c9",
   "metadata": {},
   "outputs": [
    {
     "data": {
      "text/plain": [
       "90"
      ]
     },
     "execution_count": 11,
     "metadata": {},
     "output_type": "execute_result"
    }
   ],
   "source": [
    "#Write a function that takes a list of numbers and returns the maximum number in the list\n",
    "def maximum(list):\n",
    "    return max(list)\n",
    "maximum([2,56,87,9,4])\n",
    "maximum((67,89,90))# tuple could also be given "
   ]
  },
  {
   "cell_type": "code",
   "execution_count": 10,
   "id": "30712948",
   "metadata": {},
   "outputs": [
    {
     "data": {
      "text/plain": [
       "['apple', 'airplan']"
      ]
     },
     "execution_count": 10,
     "metadata": {},
     "output_type": "execute_result"
    }
   ],
   "source": [
    "\"\"\"Write a function that takes a list of strings and returns a new list containing only the strings that start \n",
    "with the letter 'a'.\"\"\"\n",
    "def start_a(str):\n",
    "    list=[]\n",
    "    for x in str:\n",
    "        if x.startswith(\"a\"):\n",
    "            list.append(x)\n",
    "    return list\n",
    "start_a([\"apple\",\"bnana\",\"cat\",\"airplan\"])"
   ]
  },
  {
   "cell_type": "code",
   "execution_count": 12,
   "id": "5e744998",
   "metadata": {},
   "outputs": [
    {
     "name": "stdout",
     "output_type": "stream",
     "text": [
      "3 6 9 12 15 "
     ]
    }
   ],
   "source": [
    "\"\"\"Write a function that takes a list of numbers and returns a new list containing only the numbers that are \n",
    "divisible by 3.\"\"\"\n",
    "def dividend_3(list):\n",
    "    divisible=[]\n",
    "    for x in list:\n",
    "        if x%3==0:\n",
    "            print(x,end=\" \")\n",
    "dividend_3([1,2,3,4,5,6,7,8,9,12,15])\n"
   ]
  },
  {
   "cell_type": "code",
   "execution_count": 3,
   "id": "0533bfc1",
   "metadata": {},
   "outputs": [
    {
     "data": {
      "text/plain": [
       "'a y i j'"
      ]
     },
     "execution_count": 3,
     "metadata": {},
     "output_type": "execute_result"
    }
   ],
   "source": [
    "\"\"\"Write a function that takes a list of strings and returns a new list containing the reverse of each string.\"\"\"\n",
    "def input_str(str):\n",
    "    y=str.split()\n",
    "    y.reverse()\n",
    "    return \" \".join(y)\n",
    "input_str(\"j i y a\")"
   ]
  },
  {
   "cell_type": "code",
   "execution_count": 5,
   "id": "1dfa925b",
   "metadata": {},
   "outputs": [
    {
     "data": {
      "text/plain": [
       "['weather', 'malik', 'jiya']"
      ]
     },
     "execution_count": 5,
     "metadata": {},
     "output_type": "execute_result"
    }
   ],
   "source": [
    "def input_str(str):\n",
    "    y=str[::-1]\n",
    "    return y\n",
    "input_str([\"jiya\",\"malik\",\"weather\"])"
   ]
  },
  {
   "cell_type": "code",
   "execution_count": 9,
   "id": "aa16d504",
   "metadata": {},
   "outputs": [
    {
     "data": {
      "text/plain": [
       "['ayij', 'kilam', 'rehtaew']"
      ]
     },
     "execution_count": 9,
     "metadata": {},
     "output_type": "execute_result"
    }
   ],
   "source": [
    "def input_str(list):\n",
    "    str=[]\n",
    "    for x in list:\n",
    "        new_str=x[::-1]\n",
    "        str.append(new_str)\n",
    "    return str\n",
    "input_str([\"jiya\",\"malik\",\"weather\"])\n"
   ]
  },
  {
   "cell_type": "code",
   "execution_count": 16,
   "id": "4d1b66f5",
   "metadata": {},
   "outputs": [
    {
     "data": {
      "text/plain": [
       "False"
      ]
     },
     "execution_count": 16,
     "metadata": {},
     "output_type": "execute_result"
    }
   ],
   "source": [
    "\"\"\"Write a function that takes a string and returns True if the string is a palindrome (i.e., it reads the same \n",
    "forwards and backwards), and False otherwise\"\"\"\n",
    "def is_palindrome(str):\n",
    "    return str==str[::-1]\n",
    "is_palindrome(\"madam\")\n",
    "is_palindrome(\"avocado\")"
   ]
  },
  {
   "cell_type": "code",
   "execution_count": null,
   "id": "6a26edf0",
   "metadata": {},
   "outputs": [],
   "source": []
  }
 ],
 "metadata": {
  "kernelspec": {
   "display_name": "Python 3",
   "language": "python",
   "name": "python3"
  },
  "language_info": {
   "codemirror_mode": {
    "name": "ipython",
    "version": 3
   },
   "file_extension": ".py",
   "mimetype": "text/x-python",
   "name": "python",
   "nbconvert_exporter": "python",
   "pygments_lexer": "ipython3",
   "version": "3.8.8"
  }
 },
 "nbformat": 4,
 "nbformat_minor": 5
}
