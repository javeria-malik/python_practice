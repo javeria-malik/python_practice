{
 "cells": [
  {
   "cell_type": "code",
   "execution_count": 1,
   "id": "75a80235",
   "metadata": {},
   "outputs": [],
   "source": [
    "#conditional statments \n",
    "#Write a Python program to find those numbers which are divisible by 7 and multiples of 5, between 1500 and 2700 \n",
    "for num in range(1500,2700):\n",
    "    if (num/7)==0 and (num/5)==0:\n",
    "        print(\"yes,it is divisible of 7 and also multiple of 5\")\n",
    "        "
   ]
  },
  {
   "cell_type": "code",
   "execution_count": 2,
   "id": "05732e7e",
   "metadata": {},
   "outputs": [
    {
     "name": "stdout",
     "output_type": "stream",
     "text": [
      "13\n"
     ]
    }
   ],
   "source": [
    "print(6+7)"
   ]
  },
  {
   "cell_type": "code",
   "execution_count": 9,
   "id": "c941a521",
   "metadata": {},
   "outputs": [
    {
     "name": "stdout",
     "output_type": "stream",
     "text": [
      "1505\n",
      "1540\n",
      "1575\n",
      "1610\n",
      "1645\n",
      "1680\n",
      "1715\n",
      "1750\n",
      "1785\n",
      "1820\n",
      "1855\n",
      "1890\n",
      "1925\n",
      "1960\n",
      "1995\n",
      "2030\n",
      "2065\n",
      "2100\n",
      "2135\n",
      "2170\n",
      "2205\n",
      "2240\n",
      "2275\n",
      "2310\n",
      "2345\n",
      "2380\n",
      "2415\n",
      "2450\n",
      "2485\n",
      "2520\n",
      "2555\n",
      "2590\n",
      "2625\n",
      "2660\n",
      "2695\n"
     ]
    }
   ],
   "source": [
    "x=[]\n",
    "for num in range(1500,2701):\n",
    "    if num%7==0 and num%5==0:\n",
    "        print(num)\n",
    "        #print(\"yes,it is divisible of 7 and also multiple of 5\")\n",
    "        "
   ]
  },
  {
   "cell_type": "code",
   "execution_count": 1,
   "id": "94fa23cd",
   "metadata": {},
   "outputs": [
    {
     "name": "stdout",
     "output_type": "stream",
     "text": [
      "enter0\n",
      "hello\n"
     ]
    }
   ],
   "source": [
    "a=int(input (\"enter\"))\n",
    "if a==0:\n",
    "    print(\"hello\")"
   ]
  },
  {
   "cell_type": "code",
   "execution_count": 8,
   "id": "78f0e6e8",
   "metadata": {},
   "outputs": [
    {
     "name": "stdout",
     "output_type": "stream",
     "text": [
      "1505,1540,1575,1610,1645,1680,1715,1750,1785,1820,1855,1890,1925,1960,1995,2030,2065,2100,2135,2170,2205,2240,2275,2310,2345,2380,2415,2450,2485,2520,2555,2590,2625,2660,2695\n"
     ]
    }
   ],
   "source": [
    "nl=[]\n",
    "for x in range(1500, 2701):\n",
    "    if (x%7==0) and (x%5==0):\n",
    "        nl.append(str(x))\n",
    "print (','.join(nl))"
   ]
  },
  {
   "cell_type": "code",
   "execution_count": null,
   "id": "131b07bc",
   "metadata": {},
   "outputs": [],
   "source": [
    "#Write a Python program to convert temperatures to and from Celsius and Fahrenheit. Go to the editor\n",
    "#[ Formula : c/5 = f-32/9 [ where c = temperature in celsius and f = temperature in fahrenheit ]\n",
    "#Expected Output :\n",
    "#60°C is 140 in Fahrenheit\n",
    "#45°F is 7 in Celsius\n",
    "farenheit=(int(input(\"enter\")))\n",
    "def celsius_to_farenhiet():\n",
    "    celsius = (fahrenheit - 32) * 5/9\n",
    "    print(\"the celcius is \",celsius)\n",
    "cel_to_farenhite(60)"
   ]
  },
  {
   "cell_type": "code",
   "execution_count": 1,
   "id": "e7e8db1a",
   "metadata": {},
   "outputs": [
    {
     "ename": "NameError",
     "evalue": "name 'fahrenhiet_temp' is not defined",
     "output_type": "error",
     "traceback": [
      "\u001b[1;31m---------------------------------------------------------------------------\u001b[0m",
      "\u001b[1;31mNameError\u001b[0m                                 Traceback (most recent call last)",
      "\u001b[1;32m<ipython-input-1-1ddc61e029b2>\u001b[0m in \u001b[0;36m<module>\u001b[1;34m\u001b[0m\n\u001b[0;32m      4\u001b[0m \u001b[0mcelsius_temp\u001b[0m\u001b[1;33m=\u001b[0m\u001b[1;36m60\u001b[0m\u001b[1;33m\u001b[0m\u001b[1;33m\u001b[0m\u001b[0m\n\u001b[0;32m      5\u001b[0m \u001b[0mfahrenheit_temp\u001b[0m\u001b[1;33m=\u001b[0m\u001b[0mcelsius_to_fahrenheit\u001b[0m\u001b[1;33m(\u001b[0m\u001b[0mcelsius_temp\u001b[0m\u001b[1;33m)\u001b[0m\u001b[1;33m\u001b[0m\u001b[1;33m\u001b[0m\u001b[0m\n\u001b[1;32m----> 6\u001b[1;33m \u001b[0mprint\u001b[0m\u001b[1;33m(\u001b[0m\u001b[1;34mf\"{celsius_temp}°C is {fahrenhiet_temp:.1f} in Fahrenhiet\"\u001b[0m\u001b[1;33m)\u001b[0m\u001b[1;33m\u001b[0m\u001b[1;33m\u001b[0m\u001b[0m\n\u001b[0m",
      "\u001b[1;31mNameError\u001b[0m: name 'fahrenhiet_temp' is not defined"
     ]
    }
   ],
   "source": [
    "def celsius_to_fahrenheit(celsius):\n",
    "    fahrenheit = (celsius - 32) * 5/9\n",
    "    return celsius\n",
    "celsius_temp=60\n",
    "fahrenheit_temp=celsius_to_fahrenheit(celsius_temp)\n",
    "print(f\"{celsius_temp}°C is {fahrenhiet_temp:.1f} in Fahrenhiet\")    "
   ]
  },
  {
   "cell_type": "code",
   "execution_count": 6,
   "id": "8cb4a104",
   "metadata": {},
   "outputs": [
    {
     "name": "stdout",
     "output_type": "stream",
     "text": [
      "60°C is 140.0 in Fahrenheit\n"
     ]
    }
   ],
   "source": [
    "def celsius_to_fahrenheit(celsius):\n",
    "    fahrenheit = (celsius * 9/5) + 32\n",
    "    return fahrenheit\n",
    "\n",
    "celsius_temp = 60\n",
    "fahrenheit_temp = celsius_to_fahrenheit(celsius_temp)\n",
    "print(f\"{celsius_temp}°C is {fahrenheit_temp:.1f} in Fahrenheit\")\n"
   ]
  },
  {
   "cell_type": "code",
   "execution_count": 11,
   "id": "0323ed1e",
   "metadata": {},
   "outputs": [
    {
     "name": "stdout",
     "output_type": "stream",
     "text": [
      "140°F is 60.0 in Celsius\n"
     ]
    }
   ],
   "source": [
    "def fahrenheit_to_celsius(fahrenheit):\n",
    "    celsius = (fahrenheit - 32) * 5/9\n",
    "    return celsius\n",
    "#fahrenheit_temp=140\n",
    "celsius_temp=fahrenheit_to_celsius(140)\n",
    "print(f\"{fahrenheit_temp}°F is {celsius_temp:.1f} in Celsius\")"
   ]
  },
  {
   "cell_type": "code",
   "execution_count": 2,
   "id": "bc781614",
   "metadata": {},
   "outputs": [
    {
     "name": "stdout",
     "output_type": "stream",
     "text": [
      "* \n",
      "* * \n",
      "* * * \n",
      "* * * * \n",
      "* * * * * \n",
      "* * * * \n",
      "* * * \n",
      "* * \n",
      "* \n"
     ]
    }
   ],
   "source": [
    "\"\"\"Write a Python program to construct the following pattern, using a nested for loop.\n",
    "\n",
    "* \n",
    "* * \n",
    "* * * \n",
    "* * * * \n",
    "* * * * * \n",
    "* * * * \n",
    "* * * \n",
    "* * \n",
    "*\"\"\"\n",
    "# set the maximum number of rows\n",
    "max_rows = 5\n",
    "\n",
    "# loop through the rows to print the pattern\n",
    "for i in range(1, max_rows *2 ):\n",
    "    # set the number of stars to print on this row\n",
    "    if i <= max_rows:\n",
    "        num_stars = i\n",
    "    else:\n",
    "        num_stars = max_rows * 2 - i\n",
    "        \n",
    "    # print the stars for this row\n",
    "    for j in range(num_stars):\n",
    "        print(\"*\",end=\" \")\n",
    "    print()"
   ]
  },
  {
   "cell_type": "code",
   "execution_count": null,
   "id": "d6db052f",
   "metadata": {},
   "outputs": [],
   "source": [
    "#print(\"Hello\")\n",
    "print(\" world!\")"
   ]
  },
  {
   "cell_type": "code",
   "execution_count": 22,
   "id": "b0dc588f",
   "metadata": {},
   "outputs": [
    {
     "name": "stdout",
     "output_type": "stream",
     "text": [
      "# \n",
      "# # \n",
      "# # # \n",
      "# # # # \n",
      "# # # # # \n",
      "# # # # \n",
      "# # # \n",
      "# # \n",
      "# \n"
     ]
    }
   ],
   "source": [
    "maxrows=5\n",
    "for i in range(1,maxrows*2):\n",
    "    if i<= maxrows:\n",
    "        num_stars = i\n",
    "    else:\n",
    "        num_stars= maxrows*2-i\n",
    "    for j in range(num_stars):\n",
    "        print(\"#\",end=\" \")\n",
    "    print()"
   ]
  },
  {
   "cell_type": "code",
   "execution_count": 29,
   "id": "6314bf92",
   "metadata": {},
   "outputs": [
    {
     "ename": "NameError",
     "evalue": "name 'maxrows' is not defined",
     "output_type": "error",
     "traceback": [
      "\u001b[1;31m---------------------------------------------------------------------------\u001b[0m",
      "\u001b[1;31mNameError\u001b[0m                                 Traceback (most recent call last)",
      "\u001b[1;32m<ipython-input-29-93ece57ce8df>\u001b[0m in \u001b[0;36m<module>\u001b[1;34m\u001b[0m\n\u001b[0;32m      1\u001b[0m \u001b[0mmaxrow\u001b[0m\u001b[1;33m=\u001b[0m\u001b[1;36m5\u001b[0m\u001b[1;33m\u001b[0m\u001b[1;33m\u001b[0m\u001b[0m\n\u001b[1;32m----> 2\u001b[1;33m \u001b[1;32mfor\u001b[0m \u001b[0mi\u001b[0m \u001b[1;32min\u001b[0m \u001b[0mrange\u001b[0m\u001b[1;33m(\u001b[0m\u001b[1;36m1\u001b[0m\u001b[1;33m,\u001b[0m\u001b[0mmaxrows\u001b[0m\u001b[1;33m*\u001b[0m\u001b[1;36m3\u001b[0m\u001b[1;33m)\u001b[0m\u001b[1;33m:\u001b[0m\u001b[1;33m\u001b[0m\u001b[1;33m\u001b[0m\u001b[0m\n\u001b[0m\u001b[0;32m      3\u001b[0m     \u001b[1;32mif\u001b[0m \u001b[0mi\u001b[0m\u001b[1;33m<=\u001b[0m\u001b[0mmaxrows\u001b[0m\u001b[1;33m:\u001b[0m\u001b[1;33m\u001b[0m\u001b[1;33m\u001b[0m\u001b[0m\n\u001b[0;32m      4\u001b[0m         \u001b[0mnumstars\u001b[0m\u001b[1;33m=\u001b[0m\u001b[0mi\u001b[0m\u001b[1;33m\u001b[0m\u001b[1;33m\u001b[0m\u001b[0m\n\u001b[0;32m      5\u001b[0m     \u001b[1;32melse\u001b[0m\u001b[1;33m:\u001b[0m\u001b[1;33m\u001b[0m\u001b[1;33m\u001b[0m\u001b[0m\n",
      "\u001b[1;31mNameError\u001b[0m: name 'maxrows' is not defined"
     ]
    }
   ],
   "source": [
    "maxrow=5\n",
    "for i in range(1,maxrows*3):\n",
    "    if i<=maxrows:\n",
    "        numstars=i\n",
    "    else:\n",
    "        numstars=maxrows*3-i\n",
    "    for j in range(numstars):\n",
    "         print(\"\\u2764\",end=\" \")\n",
    "    print()\n",
    "    "
   ]
  },
  {
   "cell_type": "code",
   "execution_count": 53,
   "id": "6bd86222",
   "metadata": {},
   "outputs": [
    {
     "name": "stdout",
     "output_type": "stream",
     "text": [
      "enter your desire word j a v e r i a\n",
      "['j', 'a', 'v', 'e', 'r', 'i', 'a']\n",
      "['a', 'i', 'r', 'e', 'v', 'a', 'j']\n"
     ]
    },
    {
     "data": {
      "text/plain": [
       "'a i r e v a j'"
      ]
     },
     "execution_count": 53,
     "metadata": {},
     "output_type": "execute_result"
    }
   ],
   "source": [
    "#Write a Python program that accepts a word from the user and reverses it.\n",
    "name=input(\"enter your desire word \")\n",
    "list=name.split(\" \")\n",
    "print(list)\n",
    "list.reverse()\n",
    "print(list)\n",
    "\" \".join(list)"
   ]
  },
  {
   "cell_type": "code",
   "execution_count": 54,
   "id": "f1c80462",
   "metadata": {},
   "outputs": [
    {
     "name": "stdout",
     "output_type": "stream",
     "text": [
      "enterjiya\n",
      "ayij\n"
     ]
    }
   ],
   "source": [
    "#Write a Python program that accepts a word from the user and reverses it.\n",
    "name=input(\"enter\")\n",
    "reverseword=name[::-1]\n",
    "print(reverseword)\n",
    "\"\"\"ote that the slice notation [::-1] creates a new string that starts at the end of the original string and moves\n",
    "backwards by one character at a time,\n",
    "effectively reversing the order of the characters in the string.\"\"\""
   ]
  },
  {
   "cell_type": "code",
   "execution_count": 2,
   "id": "83a6bbbc",
   "metadata": {},
   "outputs": [
    {
     "name": "stdout",
     "output_type": "stream",
     "text": [
      "321\n"
     ]
    }
   ],
   "source": [
    "x=\"123\"\n",
    "y=x[::-1]\n",
    "print(y)"
   ]
  },
  {
   "cell_type": "code",
   "execution_count": 3,
   "id": "1e4771d3",
   "metadata": {},
   "outputs": [
    {
     "name": "stdout",
     "output_type": "stream",
     "text": [
      "Number of even numbers : 4\n",
      "Number of odd numbers : 5\n"
     ]
    }
   ],
   "source": [
    "\"\"\" Write a Python program to count the number of even and odd numbers in a series of numbers Go to the editor\n",
    "Sample numbers : numbers = (1, 2, 3, 4, 5, 6, 7, 8, 9) \n",
    "Expected Output :\n",
    "Number of even numbers : 5\n",
    "Number of odd numbers : 4\"\"\"\n",
    "# Define the input series of numbers\n",
    "numbers = (1, 2, 3, 4, 5, 6, 7, 8, 9)\n",
    "\n",
    "# Initialize counters for even and odd numbers\n",
    "even_count = 0\n",
    "odd_count = 0\n",
    "\n",
    "# Loop through each number in the series\n",
    "for num in numbers:\n",
    "    # Check if the number is even or odd\n",
    "    if num % 2 == 0:\n",
    "        even_count += 1\n",
    "    else:\n",
    "        odd_count += 1\n",
    "\n",
    "# Print the number of even and odd numbers\n",
    "print(\"Number of even numbers :\", even_count)\n",
    "print(\"Number of odd numbers :\", odd_count)\n"
   ]
  },
  {
   "cell_type": "code",
   "execution_count": 6,
   "id": "c4568230",
   "metadata": {},
   "outputs": [
    {
     "name": "stdout",
     "output_type": "stream",
     "text": [
      "numbers of even is  9\n",
      "numbers of odd is  10\n",
      "19\n"
     ]
    }
   ],
   "source": [
    "numbers=(1,2,3,4,5,6,4,6,3,8,8,4,3,3,3,3,90,5,5)\n",
    "even_count=0\n",
    "odd_count=0\n",
    "for num in numbers:\n",
    "    if num%2==0:\n",
    "        even_count+= 1\n",
    "    else:\n",
    "        odd_count+=1\n",
    "print(\"numbers of even is \",even_count)\n",
    "print(\"numbers of odd is \",odd_count)\n",
    "print(len(numbers))"
   ]
  },
  {
   "cell_type": "code",
   "execution_count": 13,
   "id": "8d0f9ca5",
   "metadata": {},
   "outputs": [
    {
     "name": "stdout",
     "output_type": "stream",
     "text": [
      " hello...jiya....jutt...malik...sheikh...... \n",
      " arayy pak ind\n"
     ]
    }
   ],
   "source": [
    "list=[\"hello...\",\"jiya....\",\"jutt...\",\"malik...\",\"arayy \" ,\"sheikh...... \" ,\"pak \",\"ind\"]\n",
    "good_one=\" \"\n",
    "bad_one=\" \"\n",
    "for x in list:\n",
    "    if \".\" in x:\n",
    "        good_one+=x\n",
    "    else:\n",
    "        bad_one+=x\n",
    "print(good_one)\n",
    "print(bad_one)\n",
    "        "
   ]
  },
  {
   "cell_type": "code",
   "execution_count": 18,
   "id": "f5740653",
   "metadata": {},
   "outputs": [
    {
     "name": "stdout",
     "output_type": "stream",
     "text": [
      "enterchildish\n",
      "future bhabhi\n"
     ]
    }
   ],
   "source": [
    "list=[\"kind heart\", \"childish\", \"pure\",\"loyal\",\"payal\",\"cute smile\",\"pure heart\",\"respect giver\"]\n",
    "condition=input(\"enter\")\n",
    "if condition in list:\n",
    "    print(\"future bhabhi\")    \n",
    "else:\n",
    "    print(\"sorry \")\n"
   ]
  },
  {
   "cell_type": "code",
   "execution_count": 19,
   "id": "846e0cb5",
   "metadata": {},
   "outputs": [
    {
     "name": "stdout",
     "output_type": "stream",
     "text": [
      "1452 is of type <class 'int'>\n",
      "11.23 is of type <class 'float'>\n",
      "(1+2j) is of type <class 'complex'>\n",
      "True is of type <class 'bool'>\n",
      "w3resource is of type <class 'str'>\n",
      "(0, -1) is of type <class 'tuple'>\n",
      "[5, 12] is of type <class 'list'>\n",
      "{'class': 'V', 'section': 'A'} is of type <class 'dict'>\n"
     ]
    }
   ],
   "source": [
    "\"\"\"Write a Python program that prints each item and its corresponding type from the following list.\n",
    "Sample List : datalist = [1452, 11.23, 1+2j, True, 'w3resource', (0, -1), [5, 12], {\"class\":'V', \"section\":'A'}]\"\"\"\n",
    "datalist=[1452, 11.23, 1+2j, True, 'w3resource', (0, -1), [5, 12], {\"class\":'V', \"section\":'A'}]\n",
    "for item in datalist:\n",
    "    print(item,\"is of type\",type(item))"
   ]
  },
  {
   "cell_type": "code",
   "execution_count": 26,
   "id": "8593c090",
   "metadata": {},
   "outputs": [
    {
     "name": "stdout",
     "output_type": "stream",
     "text": [
      "0 1 2 4 5 "
     ]
    }
   ],
   "source": [
    "\"\"\"Write a Python program that prints all the numbers from 0 to 6 except 3 and 6.\n",
    "Note : Use 'continue' statement.\n",
    "Expected Output : 0 1 2 4 5\"\"\"\n",
    "for i in range(6):\n",
    "    if i == 3 or i==6:\n",
    "        continue\n",
    "    print(i,end=\" \")# The end=' ' argument is used to separate each printed number by a space instead of a newline."
   ]
  },
  {
   "cell_type": "code",
   "execution_count": 25,
   "id": "66f1ee5b",
   "metadata": {},
   "outputs": [
    {
     "name": "stdout",
     "output_type": "stream",
     "text": [
      "0\n",
      "1\n",
      "2\n"
     ]
    }
   ],
   "source": [
    "for i in range(6):\n",
    "    if i == 3 or i==6:\n",
    "        break\n",
    "    print(i)"
   ]
  },
  {
   "cell_type": "code",
   "execution_count": 1,
   "id": "a0427852",
   "metadata": {},
   "outputs": [
    {
     "name": "stdout",
     "output_type": "stream",
     "text": [
      "1 1 2 3 5 8 13 21 34 "
     ]
    }
   ],
   "source": [
    "# initialize the first two terms of the sequence\n",
    "a, b = 0, 1\n",
    "\n",
    "# loop through the sequence until the limit is reached\n",
    "while b < 50:\n",
    "    print(b, end=' ')\n",
    "    a, b = b, a + b"
   ]
  },
  {
   "cell_type": "code",
   "execution_count": 6,
   "id": "a3994664",
   "metadata": {},
   "outputs": [
    {
     "name": "stdout",
     "output_type": "stream",
     "text": [
      "1 1 2 3 5 8 13 21 34 "
     ]
    }
   ],
   "source": [
    "a ,b = 0,1\n",
    "for i in range(50):\n",
    "    if b >50:\n",
    "        break\n",
    "    print(b,end=\" \")\n",
    "    a,b=b,a+b"
   ]
  },
  {
   "cell_type": "code",
   "execution_count": 10,
   "id": "5f5af2d5",
   "metadata": {},
   "outputs": [
    {
     "name": "stdout",
     "output_type": "stream",
     "text": [
      "1 2 2 4 4 8 8 16 16 32 32 64 "
     ]
    }
   ],
   "source": [
    "a = 0\n",
    "b= 1\n",
    "for i in range(50):\n",
    "    if b >50:\n",
    "        break\n",
    "    #print(a,b,end=\" \")\n",
    "    a=b\n",
    "    b=a+b\n",
    "    print(a,b,end=\" \")"
   ]
  },
  {
   "cell_type": "code",
   "execution_count": 11,
   "id": "808d1d7c",
   "metadata": {},
   "outputs": [
    {
     "name": "stdout",
     "output_type": "stream",
     "text": [
      "fizzbuzz\n",
      "1\n",
      "2\n",
      "fizz\n",
      "4\n",
      "buzz\n",
      "fizz\n",
      "7\n",
      "8\n",
      "fizz\n",
      "buzz\n",
      "11\n",
      "fizz\n",
      "13\n",
      "14\n",
      "fizzbuzz\n",
      "16\n",
      "17\n",
      "fizz\n",
      "19\n",
      "buzz\n",
      "fizz\n",
      "22\n",
      "23\n",
      "fizz\n",
      "buzz\n",
      "26\n",
      "fizz\n",
      "28\n",
      "29\n",
      "fizzbuzz\n",
      "31\n",
      "32\n",
      "fizz\n",
      "34\n",
      "buzz\n",
      "fizz\n",
      "37\n",
      "38\n",
      "fizz\n",
      "buzz\n",
      "41\n",
      "fizz\n",
      "43\n",
      "44\n",
      "fizzbuzz\n",
      "46\n",
      "47\n",
      "fizz\n",
      "49\n",
      "buzz\n"
     ]
    }
   ],
   "source": [
    "\"\"\"Write a Python program that iterates the integers from 1 to 50. For multiples of three print \"Fizz\" instead of the\n",
    "number and for multiples of five print \"Buzz\". For numbers that are multiples of three and five, print \"FizzBuzz\".\n",
    "Sample Output :\n",
    "fizzbuzz\n",
    "1\n",
    "2\n",
    "fizz\n",
    "4\n",
    "buzz\"\"\"\n",
    "for fizzbuzz in range(51):\n",
    "    if fizzbuzz%3==0 and fizzbuzz%5==0:\n",
    "        print(\"fizzbuzz\")\n",
    "        continue\n",
    "    elif fizzbuzz%3==0:\n",
    "        print(\"fizz\")\n",
    "        continue\n",
    "    elif fizzbuzz%5==0:\n",
    "        print(\"buzz\")\n",
    "        continue\n",
    "    print(fizzbuzz)\n",
    "    "
   ]
  },
  {
   "cell_type": "code",
   "execution_count": 1,
   "id": "3c562e16",
   "metadata": {},
   "outputs": [
    {
     "name": "stdout",
     "output_type": "stream",
     "text": [
      "Enter the number of rows: 6\n",
      "Enter the number of columns: 7\n",
      "[[0, 0, 0, 0, 0, 0, 0], [0, 1, 2, 3, 4, 5, 6], [0, 2, 4, 6, 8, 10, 12], [0, 3, 6, 9, 12, 15, 18], [0, 4, 8, 12, 16, 20, 24], [0, 5, 10, 15, 20, 25, 30]]\n"
     ]
    }
   ],
   "source": [
    "\"\"\"Write a Python program that takes two digits m (row) and n (column) as input and generates a two-dimensional array.\n",
    "The element value in the i-th row and j-th column of the array should be i*j. Go to the editor\n",
    "Note :\n",
    "i = 0,1.., m-1\n",
    "j = 0,1, n-1.\n",
    "\n",
    "Test Data : Rows = 3, Columns = 4\n",
    "Expected Result : [[0, 0, 0, 0], [0, 1, 2, 3], [0, 2, 4, 6]]\"\"\"\n",
    "m = int(input(\"Enter the number of rows: \"))\n",
    "n = int(input(\"Enter the number of columns: \"))\n",
    "\n",
    "# Create a two-dimensional array with zeros as initial values\n",
    "array = [[0 for j in range(n)] for i in range(m)]\n",
    "\n",
    "# Fill the array with values using a nested loop\n",
    "for i in range(m):\n",
    "    for j in range(n):\n",
    "        array[i][j] = i * j\n",
    "\n",
    "# Print the resulting array\n",
    "print(array)"
   ]
  },
  {
   "cell_type": "code",
   "execution_count": 1,
   "id": "b90ea844",
   "metadata": {},
   "outputs": [
    {
     "name": "stdout",
     "output_type": "stream",
     "text": [
      "hello\n",
      "wait\n",
      "\n",
      "hello\n",
      "wait\n"
     ]
    }
   ],
   "source": [
    "lines = []\n",
    "\n",
    "# Read lines from input until a blank line is entered\n",
    "for line in iter(input, ''):\n",
    "    lines.append(line.strip())\n",
    "\n",
    "# Print the lines in lowercase\n",
    "for line in lines:\n",
    "    print(line.lower())"
   ]
  },
  {
   "cell_type": "code",
   "execution_count": 10,
   "id": "aad9bb5f",
   "metadata": {},
   "outputs": [
    {
     "name": "stdout",
     "output_type": "stream",
     "text": [
      "['world', ['hello']]\n"
     ]
    }
   ],
   "source": [
    "line=[\"world\"]\n",
    "l=[\"hello\"]\n",
    "line.append(l)\n",
    "print(line)\n"
   ]
  },
  {
   "cell_type": "code",
   "execution_count": 1,
   "id": "337ff9b4",
   "metadata": {},
   "outputs": [],
   "source": [
    "my_string = \"hello, world!\"\n",
    "my_iter = iter(my_string)\n",
    "print(my_iter)\n",
    "#for char in my_iter:\n",
    "   # print(char.upper(), end=\"\")"
   ]
  },
  {
   "cell_type": "code",
   "execution_count": 1,
   "id": "01bd538b",
   "metadata": {},
   "outputs": [
    {
     "name": "stdout",
     "output_type": "stream",
     "text": [
      "jiya\n",
      "malik\n",
      "\n",
      "JIYA\n",
      "MALIK\n"
     ]
    }
   ],
   "source": [
    "list=[]\n",
    "for x in iter(input,\"\"):\n",
    "    list.append(x.strip())\n",
    "for x in list:\n",
    "    print(x.upper())\n"
   ]
  },
  {
   "cell_type": "code",
   "execution_count": 3,
   "id": "f4df9422",
   "metadata": {},
   "outputs": [
    {
     "name": "stdout",
     "output_type": "stream",
     "text": [
      "Enter a sequence of comma separated 4 digit binary numbers: 1010,0101,1111\n",
      "1010,0101,1111\n"
     ]
    }
   ],
   "source": [
    "# Accept input from the user\n",
    "input_string = input(\"Enter a sequence of comma separated 4 digit binary numbers: \")\n",
    "\n",
    "# Split the input string into a list of binary numbers\n",
    "binary_numbers = input_string.split(\",\")\n",
    "\n",
    "# Initialize an empty list to store the binary numbers that are divisible by 5\n",
    "divisible_by_5 = []\n",
    "\n",
    "# Iterate over each binary number in the list\n",
    "for binary_number in binary_numbers:\n",
    "    # Convert the binary number to an integer\n",
    "    decimal_number = int(binary_number, 2)\n",
    "    # Check if the decimal number is divisible by 5\n",
    "    if decimal_number % 5 == 0:\n",
    "        # If it is, append the binary number to the list of divisible numbers\n",
    "        divisible_by_5.append(binary_number)\n",
    "\n",
    "# Print the list of binary numbers that are divisible by 5\n",
    "print(\",\".join(divisible_by_5))\n"
   ]
  },
  {
   "cell_type": "code",
   "execution_count": 4,
   "id": "f56786bf",
   "metadata": {},
   "outputs": [
    {
     "name": "stdout",
     "output_type": "stream",
     "text": [
      "1010,0101,1111,1011\n",
      "1010,0101,1111\n"
     ]
    }
   ],
   "source": [
    "items = []\n",
    "num = [x for x in input().split(',')]\n",
    "for p in num:\n",
    "    x = int(p, 2)\n",
    "    if not x%5:\n",
    "        items.append(p)\n",
    "print(','.join(items))\n"
   ]
  },
  {
   "cell_type": "code",
   "execution_count": 5,
   "id": "4caa6848",
   "metadata": {},
   "outputs": [
    {
     "name": "stdout",
     "output_type": "stream",
     "text": [
      "1010,0101,1111,1011\n",
      "1010\n"
     ]
    }
   ],
   "source": [
    "items=[]\n",
    "num=[x for x in input().split(\",\")]\n",
    "for p in num:\n",
    "    x = int(p,8)\n",
    "    if not x%8:\n",
    "        items.append(p)\n",
    "print(\",\".join(items))"
   ]
  },
  {
   "cell_type": "code",
   "execution_count": 4,
   "id": "e31e392d",
   "metadata": {},
   "outputs": [
    {
     "name": "stdout",
     "output_type": "stream",
     "text": [
      "enter your string python 3.2\n",
      "6\n",
      "2\n"
     ]
    }
   ],
   "source": [
    "\"\"\"Write a Python program that accepts a string and calculates the number of digits and letters. Go to the editor\n",
    "Sample Data : Python 3.2\n",
    "Expected Output :\n",
    "Letters 6\n",
    "Digits 2\n",
    "\"\"\"\n",
    "string=input(\"enter your string \")\n",
    "digit=0\n",
    "letters=0\n",
    "for char in string:\n",
    "    if char.isalpha():# if we use operator =+ it will assin value 1 to variable \n",
    "        letters+=1\n",
    "    elif char.isdigit():\n",
    "        digit+=1\n",
    "print(letters)\n",
    "print(digit)"
   ]
  },
  {
   "cell_type": "code",
   "execution_count": 2,
   "id": "508bb441",
   "metadata": {},
   "outputs": [
    {
     "name": "stdout",
     "output_type": "stream",
     "text": [
      "Enter a string: Python 3.2\n",
      "Letters 6\n",
      "Digits 2\n"
     ]
    }
   ],
   "source": [
    "string = input(\"Enter a string: \")\n",
    "\n",
    "digits = 0\n",
    "letters = 0\n",
    "\n",
    "for char in string:\n",
    "    if char.isdigit():\n",
    "        digits += 1\n",
    "    elif char.isalpha():\n",
    "        letters += 1\n",
    "\n",
    "print(\"Letters\", letters)\n",
    "print(\"Digits\", digits)\n"
   ]
  },
  {
   "cell_type": "code",
   "execution_count": 6,
   "id": "be8018e4",
   "metadata": {},
   "outputs": [
    {
     "name": "stdout",
     "output_type": "stream",
     "text": [
      "Enter a password: js xjh xndsxbcusdm cxjhfyudsbndbjhv\n",
      "Invalid password\n"
     ]
    }
   ],
   "source": [
    "import re\n",
    "\n",
    "def check_password(password):\n",
    "    if len(password) < 6 or len(password) > 16:\n",
    "        return False\n",
    "    elif not re.search(\"[a-z]\", password):\n",
    "        return False\n",
    "    elif not re.search(\"[A-Z]\", password):\n",
    "        return False\n",
    "    elif not re.search(\"[0-9]\", password):\n",
    "        return False\n",
    "    elif not re.search(\"[$#@]\", password):\n",
    "        return False\n",
    "    else:\n",
    "        return True\n",
    "\n",
    "password = input(\"Enter a password: \")\n",
    "if check_password(password):\n",
    "    print(\"Valid password\")\n",
    "else:\n",
    "    print(\"Invalid password\")\n"
   ]
  },
  {
   "cell_type": "code",
   "execution_count": 13,
   "id": "fdc85855",
   "metadata": {},
   "outputs": [
    {
     "name": "stdout",
     "output_type": "stream",
     "text": [
      "Enter a password: $\n",
      "Invalid password\n"
     ]
    }
   ],
   "source": [
    "import re\n",
    "\n",
    "def check_password(password):\n",
    "    if len(password) < 6 or len(password) > 16:\n",
    "        return False\n",
    "    elif  re.search(\"[a-z]\", password):\n",
    "        return  False\n",
    "    elif  re.search(\"[A-Z]\", password):\n",
    "        return  False\n",
    "    elif  re.search(\"[0-9]\", password):\n",
    "        return  False\n",
    "    elif not re.search(\"[$#@]\", password):\n",
    "        return True\n",
    "    else:\n",
    "        return  False\n",
    "\n",
    "password = input(\"Enter a password: \")\n",
    "if check_password(password):\n",
    "    print(\"Valid password\")\n",
    "else:\n",
    "    print(\"Invalid password\")\n"
   ]
  },
  {
   "cell_type": "code",
   "execution_count": 9,
   "id": "43d4986b",
   "metadata": {},
   "outputs": [
    {
     "name": "stdout",
     "output_type": "stream",
     "text": [
      "enter your password:jiyaM89#\n",
      "valid password\n"
     ]
    }
   ],
   "source": [
    "import re\n",
    "def check_password(password):\n",
    "    if len(password)<6 or len(password)>16:\n",
    "        return False\n",
    "    elif not re.search(\"[a-z]\", password):\n",
    "        return False\n",
    "    elif not re.search(\"[A-Z]\",password):\n",
    "        return False\n",
    "    elif not re.search(\"[0-9]\",password):\n",
    "        return False\n",
    "    elif not re.search(\"[$#@]\",password):\n",
    "        return False\n",
    "    else:\n",
    "        return True\n",
    "password=input(\"enter your password:\")\n",
    "if check_password(password):\n",
    "    print(\"valid password\")\n",
    "else:\n",
    "    print(\"invalid password\")"
   ]
  },
  {
   "cell_type": "code",
   "execution_count": 8,
   "id": "4cf3d047",
   "metadata": {},
   "outputs": [
    {
     "name": "stdout",
     "output_type": "stream",
     "text": [
      "100,102,104,106,108,110,112,114,116,118,120,122,124,126,128,130,132,134,136,138,140,142,144,146,148,150,152,154,156,158,160,162,164,166,168,170,172,174,176,178,180,182,184,186,188,190,192,194,196,198,200,202,204,206,208,210,212,214,216,218,220,222,224,226,228,230,232,234,236,238,240,242,244,246,248,250,252,254,256,258,260,262,264,266,268,270,272,274,276,278,280,282,284,286,288,290,292,294,296,298,300,302,304,306,308,310,312,314,316,318,320,322,324,326,328,330,332,334,336,338,340,342,344,346,348,350,352,354,356,358,360,362,364,366,368,370,372,374,376,378,380,382,384,386,388,390,392,394,396,398,400\n"
     ]
    }
   ],
   "source": [
    "\"\"\"Write a Python program to find numbers between 100 and 400 (both included) where each digit of a number is an even number. \n",
    "The numbers obtained should be printed in a comma-separated sequence\"\"\"\n",
    "number=[]\n",
    "for x in range(100,401):\n",
    "    if (x%2==0):\n",
    "        number.append(str(x))\n",
    "print(\",\".join(number))\n"
   ]
  },
  {
   "cell_type": "code",
   "execution_count": 11,
   "id": "62821b1e",
   "metadata": {},
   "outputs": [
    {
     "name": "stdout",
     "output_type": "stream",
     "text": [
      "  ***  \n",
      " *   * \n",
      " *   * \n",
      " ***** \n",
      " *   * \n",
      " *   * \n",
      " *   * \n",
      "\n"
     ]
    }
   ],
   "source": [
    "result_str=\"\"    \n",
    "for row in range(0,7):    \n",
    "    for column in range(0,7):     \n",
    "        if (((column == 1 or column == 5) and row != 0) or ((row == 0 or row == 3) and (column > 1 and column < 5))):    \n",
    "            result_str=result_str+\"*\"    \n",
    "        else:      \n",
    "            result_str=result_str+\" \"    \n",
    "    result_str=result_str+\"\\n\"    \n",
    "print(result_str);\n"
   ]
  },
  {
   "cell_type": "code",
   "execution_count": 23,
   "id": "7f17325d",
   "metadata": {},
   "outputs": [
    {
     "name": "stdout",
     "output_type": "stream",
     "text": [
      "  ***  \n",
      " *   * \n",
      " *   * \n",
      " ***** \n",
      " *   * \n",
      " *   * \n",
      " *   * \n",
      "\n"
     ]
    }
   ],
   "source": [
    "str=\"\"\n",
    "for row in range(0,7):\n",
    "    for column in range(0,7):\n",
    "        if(((column==1 or column==5) and row!= 0) or((row ==0 or row == 3) and (column > 1 and column <5))):\n",
    "            str=str+\"*\"\n",
    "        else:\n",
    "            str=str+\" \"\n",
    "    str=str+\"\\n\"\n",
    "print(str)"
   ]
  },
  {
   "cell_type": "code",
   "execution_count": null,
   "id": "a8e797d9",
   "metadata": {},
   "outputs": [],
   "source": []
  }
 ],
 "metadata": {
  "kernelspec": {
   "display_name": "Python 3",
   "language": "python",
   "name": "python3"
  },
  "language_info": {
   "codemirror_mode": {
    "name": "ipython",
    "version": 3
   },
   "file_extension": ".py",
   "mimetype": "text/x-python",
   "name": "python",
   "nbconvert_exporter": "python",
   "pygments_lexer": "ipython3",
   "version": "3.8.8"
  }
 },
 "nbformat": 4,
 "nbformat_minor": 5
}
