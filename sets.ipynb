{
 "cells": [
  {
   "cell_type": "code",
   "execution_count": 1,
   "id": "8f96c96b",
   "metadata": {},
   "outputs": [
    {
     "name": "stdout",
     "output_type": "stream",
     "text": [
      "{8, 9, 6, 54}\n"
     ]
    }
   ],
   "source": [
    "# sets contain non repeated value \n",
    "# sets doesnot conatin repeated value\n",
    "set={8,9,6,6,54}# 6 will print only time\n",
    "#it does not maintain any order\n",
    "#set are unchangeable\n",
    "print(set)"
   ]
  },
  {
   "cell_type": "code",
   "execution_count": 2,
   "id": "f1315742",
   "metadata": {},
   "outputs": [
    {
     "name": "stdout",
     "output_type": "stream",
     "text": [
      "{'jiya'}\n"
     ]
    }
   ],
   "source": [
    "set={\"jiya\",\"jiya\"}\n",
    "print(set)"
   ]
  },
  {
   "cell_type": "code",
   "execution_count": 3,
   "id": "659a68ca",
   "metadata": {},
   "outputs": [
    {
     "name": "stdout",
     "output_type": "stream",
     "text": [
      "{True, 98, 'carla', 9.07, '98', 78}\n"
     ]
    }
   ],
   "source": [
    "info={\"carla\",\"98\",78,98,9.07,True}\n",
    "print(info)"
   ]
  },
  {
   "cell_type": "code",
   "execution_count": 4,
   "id": "6aae116c",
   "metadata": {},
   "outputs": [
    {
     "name": "stdout",
     "output_type": "stream",
     "text": [
      "<class 'dict'>\n"
     ]
    }
   ],
   "source": [
    "harry={}# it will give dictionary becuse the syntax of set and dictionary is almost same\n",
    "print(type(harry))"
   ]
  },
  {
   "cell_type": "code",
   "execution_count": 1,
   "id": "d02ac102",
   "metadata": {},
   "outputs": [
    {
     "name": "stdout",
     "output_type": "stream",
     "text": [
      "<class 'set'>\n"
     ]
    }
   ],
   "source": [
    "# to create an empty set\n",
    "harry=set()\n",
    "print(type(harry))"
   ]
  },
  {
   "cell_type": "code",
   "execution_count": 1,
   "id": "a022aaf9",
   "metadata": {},
   "outputs": [
    {
     "name": "stdout",
     "output_type": "stream",
     "text": [
      "{9, 2, 3, 6} {0, 8, 778, 7}\n"
     ]
    }
   ],
   "source": [
    "# sets contain non repeated value \n",
    "s1={2,3,6,9}\n",
    "s2={778,0,8,7}\n",
    "print(s1,s2)"
   ]
  },
  {
   "cell_type": "code",
   "execution_count": 2,
   "id": "3574241d",
   "metadata": {},
   "outputs": [
    {
     "name": "stdout",
     "output_type": "stream",
     "text": [
      "{0, 2, 3, 6, 7, 8, 9, 778}\n"
     ]
    }
   ],
   "source": [
    "# union mthod\n",
    "print(s1.union(s2))"
   ]
  },
  {
   "cell_type": "code",
   "execution_count": 4,
   "id": "5d47020f",
   "metadata": {},
   "outputs": [
    {
     "name": "stdout",
     "output_type": "stream",
     "text": [
      "set()\n"
     ]
    }
   ],
   "source": [
    "#intersection method\n",
    "print(s1.intersection(s2))"
   ]
  },
  {
   "cell_type": "code",
   "execution_count": 6,
   "id": "2d29c351",
   "metadata": {},
   "outputs": [
    {
     "name": "stdout",
     "output_type": "stream",
     "text": [
      "{9, 4, 7}\n"
     ]
    }
   ],
   "source": [
    "s3={7,7,9,4,5}\n",
    "s4={9,7,6,4,0}\n",
    "print(s3.intersection(s4))"
   ]
  },
  {
   "cell_type": "code",
   "execution_count": 7,
   "id": "5980186e",
   "metadata": {},
   "outputs": [
    {
     "name": "stdout",
     "output_type": "stream",
     "text": [
      "None\n"
     ]
    }
   ],
   "source": [
    "# update method\n",
    "print(s3.update(s4))"
   ]
  },
  {
   "cell_type": "code",
   "execution_count": 8,
   "id": "5f27eedd",
   "metadata": {},
   "outputs": [
    {
     "name": "stdout",
     "output_type": "stream",
     "text": [
      "{0, 4, 5, 6, 7, 9} {0, 4, 6, 7, 9}\n"
     ]
    }
   ],
   "source": [
    "#update the value of s3 with s4 but aslo print s4\n",
    "s3.update(s4)\n",
    "print(s3,s4)"
   ]
  },
  {
   "cell_type": "code",
   "execution_count": 10,
   "id": "2c08b4ed",
   "metadata": {},
   "outputs": [
    {
     "name": "stdout",
     "output_type": "stream",
     "text": [
      "{'pak', 'india', 'bangla', 'multan', 'china'}\n"
     ]
    }
   ],
   "source": [
    "# symmetric difference\n",
    "# gave those values which are not common\n",
    "s3={\"khi\",\"lhr\",\"fsd\",\"multan\"}\n",
    "s4={\"khi\",\"lhr\",\"fsd\",\"pak\",\"india\",\"china\",\"bangla\"}\n",
    "s5=s3.symmetric_difference(s4)\n",
    "print(s5)"
   ]
  },
  {
   "cell_type": "code",
   "execution_count": 11,
   "id": "6fec3097",
   "metadata": {},
   "outputs": [
    {
     "name": "stdout",
     "output_type": "stream",
     "text": [
      "False\n"
     ]
    }
   ],
   "source": [
    "# isdisjoint method\n",
    "print(s3.isdisjoint(s4))# return value in true and false"
   ]
  },
  {
   "cell_type": "code",
   "execution_count": 12,
   "id": "1ad6817b",
   "metadata": {},
   "outputs": [
    {
     "name": "stdout",
     "output_type": "stream",
     "text": [
      "False\n"
     ]
    }
   ],
   "source": [
    "#issuperset\n",
    "print(s3.isdisjoint(s4))"
   ]
  },
  {
   "cell_type": "code",
   "execution_count": 13,
   "id": "b80fd0ed",
   "metadata": {},
   "outputs": [
    {
     "name": "stdout",
     "output_type": "stream",
     "text": [
      "False\n"
     ]
    }
   ],
   "source": [
    "#is subset\n",
    "print(s4.issubset(s5))"
   ]
  },
  {
   "cell_type": "code",
   "execution_count": 14,
   "id": "4e25227e",
   "metadata": {},
   "outputs": [
    {
     "name": "stdout",
     "output_type": "stream",
     "text": [
      "False\n"
     ]
    }
   ],
   "source": [
    "a={7.9,7,8,5,4,6,32,0}\n",
    "b={6,8}\n",
    "print(a.isdisjoint(b))\n"
   ]
  },
  {
   "cell_type": "code",
   "execution_count": 15,
   "id": "7e324e1c",
   "metadata": {},
   "outputs": [
    {
     "name": "stdout",
     "output_type": "stream",
     "text": [
      "True\n"
     ]
    }
   ],
   "source": [
    "print(a.issuperset(b))"
   ]
  },
  {
   "cell_type": "code",
   "execution_count": 16,
   "id": "027470a2",
   "metadata": {},
   "outputs": [
    {
     "name": "stdout",
     "output_type": "stream",
     "text": [
      "False\n"
     ]
    }
   ],
   "source": [
    "print(b.issuperset(a))"
   ]
  },
  {
   "cell_type": "code",
   "execution_count": 18,
   "id": "c4090e50",
   "metadata": {},
   "outputs": [
    {
     "name": "stdout",
     "output_type": "stream",
     "text": [
      "False\n"
     ]
    }
   ],
   "source": [
    "print(a.issubset(b))"
   ]
  },
  {
   "cell_type": "code",
   "execution_count": 22,
   "id": "85a0f46f",
   "metadata": {},
   "outputs": [
    {
     "name": "stdout",
     "output_type": "stream",
     "text": [
      "{32, 0, 4, 5, 6, 7, 8, 7.9, 9}\n"
     ]
    }
   ],
   "source": [
    "# add method\n",
    "a.add(9)# give value whuch you want to add\n",
    "print(a)"
   ]
  },
  {
   "cell_type": "code",
   "execution_count": 23,
   "id": "d3c49ed3",
   "metadata": {},
   "outputs": [
    {
     "name": "stdout",
     "output_type": "stream",
     "text": [
      "{32, 0, 4, 5, 6, 7, 8, 7.9, 9}\n"
     ]
    }
   ],
   "source": [
    "#remove method\n",
    "print(a)"
   ]
  },
  {
   "cell_type": "code",
   "execution_count": 25,
   "id": "ea4253c0",
   "metadata": {},
   "outputs": [
    {
     "ename": "KeyError",
     "evalue": "32",
     "output_type": "error",
     "traceback": [
      "\u001b[1;31m---------------------------------------------------------------------------\u001b[0m",
      "\u001b[1;31mKeyError\u001b[0m                                  Traceback (most recent call last)",
      "\u001b[1;32m<ipython-input-25-0e53ceb3acdf>\u001b[0m in \u001b[0;36m<module>\u001b[1;34m\u001b[0m\n\u001b[0;32m      1\u001b[0m \u001b[1;31m# remove me,thod\u001b[0m\u001b[1;33m\u001b[0m\u001b[1;33m\u001b[0m\u001b[1;33m\u001b[0m\u001b[0m\n\u001b[1;32m----> 2\u001b[1;33m \u001b[0ma\u001b[0m\u001b[1;33m.\u001b[0m\u001b[0mremove\u001b[0m\u001b[1;33m(\u001b[0m\u001b[1;36m32\u001b[0m\u001b[1;33m)\u001b[0m\u001b[1;33m\u001b[0m\u001b[1;33m\u001b[0m\u001b[0m\n\u001b[0m\u001b[0;32m      3\u001b[0m \u001b[0mprint\u001b[0m\u001b[1;33m(\u001b[0m\u001b[0ma\u001b[0m\u001b[1;33m)\u001b[0m\u001b[1;33m\u001b[0m\u001b[1;33m\u001b[0m\u001b[0m\n\u001b[0;32m      4\u001b[0m \u001b[0ma\u001b[0m\u001b[1;33m.\u001b[0m\u001b[0mremove\u001b[0m\u001b[1;33m(\u001b[0m\u001b[1;36m64\u001b[0m\u001b[1;33m)\u001b[0m\u001b[1;33m\u001b[0m\u001b[1;33m\u001b[0m\u001b[0m\n\u001b[0;32m      5\u001b[0m \u001b[0mprint\u001b[0m\u001b[1;33m(\u001b[0m\u001b[0ma\u001b[0m\u001b[1;33m)\u001b[0m\u001b[1;33m\u001b[0m\u001b[1;33m\u001b[0m\u001b[0m\n",
      "\u001b[1;31mKeyError\u001b[0m: 32"
     ]
    }
   ],
   "source": [
    "# remove me,thod\n",
    "a.remove(32)\n",
    "print(a)\n",
    "a.remove(64)# will raise error\n",
    "print(a)"
   ]
  },
  {
   "cell_type": "code",
   "execution_count": 26,
   "id": "03ea5606",
   "metadata": {},
   "outputs": [
    {
     "name": "stdout",
     "output_type": "stream",
     "text": [
      "{0, 4, 5, 6, 7, 8, 7.9, 9}\n"
     ]
    }
   ],
   "source": [
    "a.discard(32)\n",
    "print(a)\n",
    "a.discard(64)"
   ]
  },
  {
   "cell_type": "code",
   "execution_count": 1,
   "id": "91377e80",
   "metadata": {},
   "outputs": [
    {
     "name": "stdout",
     "output_type": "stream",
     "text": [
      "{1, 2, (3, 4)}\n",
      "{1, 2, (5, 6), (3, 4)}\n",
      "{1, 2, (3, 4)}\n"
     ]
    }
   ],
   "source": [
    "import copy\n",
    "\n",
    "set1 = {1, 2, (3, 4)}\n",
    "set2 = copy.deepcopy(set1)\n",
    "\n",
    "print(set2) # Output: {1, 2, (3, 4)}\n",
    "\n",
    "set1.add((5, 6))\n",
    "\n",
    "print(set1) # Output: {1, 2, (3, 4), (5, 6)}\n",
    "print(set2) # Output: {1, 2, (3, 4)}\n"
   ]
  },
  {
   "cell_type": "code",
   "execution_count": null,
   "id": "c5937f74",
   "metadata": {},
   "outputs": [],
   "source": [
    "\n"
   ]
  }
 ],
 "metadata": {
  "kernelspec": {
   "display_name": "Python 3",
   "language": "python",
   "name": "python3"
  },
  "language_info": {
   "codemirror_mode": {
    "name": "ipython",
    "version": 3
   },
   "file_extension": ".py",
   "mimetype": "text/x-python",
   "name": "python",
   "nbconvert_exporter": "python",
   "pygments_lexer": "ipython3",
   "version": "3.8.8"
  }
 },
 "nbformat": 4,
 "nbformat_minor": 5
}
